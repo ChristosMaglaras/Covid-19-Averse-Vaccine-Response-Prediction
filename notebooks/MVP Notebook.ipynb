{
 "cells": [
  {
   "cell_type": "markdown",
   "metadata": {},
   "source": [
    "# Covid-19 Averse Vaccine Response Prediction\n",
    "![vaccine brands](../data/images/vaccines.jpg)\n",
    "Author: Christos Maglaras<br>\n",
    "Date : 4/14/2021\n",
    "## Stakeholder\n",
    "This project is mainly focused on serving the induvidual by providing an prediction based on personal information of the possibility of a negative reaction from one of the Covid-19 vaccines. It could also be applied in a medical center such as a clinic or hospital to screen patients easily and quickly. If you would like to know your or anothers risk of illness from one of the three available vaccines you may enter some or all of your personal information into the following web form ~flask link~. Successfully being able to predict the outcome of a patient utilizing nothing more than an online form would be higly beneficial to the patient of course, but also the healthcare system by decreasing the amount of strain placed on hospitals. \n",
    "\n",
    "## Data\n",
    "The data utilized for this project has been sourced from the CDC VAERS system, a public dataset consisting of thirty years of domestic adverse vaccine events. Medical professionals and vaccine manufactures are required to report all adverse reactions that come to their attention. While they are required to submit records, anyone can submit a report of their experience. The data consists of general informations such as age and sex, vaccination information like the administration facility and brand, and health information such as preexisting illnesses, allergies, and medications they may take. This dataset contains roughly 70,000 records containing covid-19 vaccines, and is updated every two weeks with new records. You can collect the data [Here](https://vaers.hhs.gov/data/datasets.html?).\n",
    "![vaers](../data/images/vaers.png)\n",
    "\n",
    "## Business Understanding\n",
    "This system would alleviate some of the pressure from hospitals, freeing up resources so they can operate more effectively. The first way in which a system like this would help is as a first step screening method, filtering patients to at least notify their clinician of their risks. The second is that in avoiding the adverse reactions, the hospitals do not need to dedicate extra resources to the patient after the reaction. Aulthough we have here seventy thousand cases reporting adverse reactions, the US now has reached five million vaccinations of at least one dose, and three million full vaccinations, meaning that these adverse reactions are only 1.4% of all domestic vaccinations. This is not to say that the 1.4% are to be ignored, with the legal age of the vaccine being sixteen, that leaves two hundred thirty million people eligible for the vaccine in the us, 1.4% being three million.\n",
    "\n",
    "## Model\n",
    "The model that achieved the best results was xgboost optimized using the Bayesian Optimization technique. This achieved significantly better results than both the standard random forests and the neural network which were not able to produce informative models. Aulthough there is some difficulty differentiating between hospital-bound and those who are not, that is between patients who all had some sort of averse reaction. A real wold test might be more precice as it has been trained on the more difficult task of seperating two groups who are very similar to one another. \n",
    "\n",
    "## Contents\n",
    "```\n",
    "├── data\n",
    "|   ├── vaers_guide.pdf\n",
    "|   ├── images\n",
    "|   |   ├── vaccines.jpg\n",
    "|   |   └── vaers.mp4\n",
    "|   └── dataset\n",
    "|       ├── 2020\n",
    "|       |   ├── data20.csv\n",
    "|       |   ├── symptoms20.csv\n",
    "|       |   └── vax20.csv\n",
    "|       └── 2021\n",
    "|           ├── data21.csv\n",
    "|           ├── symptoms21.csv\n",
    "|           └── vax21.csv\n",
    "├── notebooks\n",
    "|   ├── Exploration Notebook.ipynb\n",
    "|   ├── Final Notebook.ipynb\n",
    "|   └── MVP Final Notebook.ipynb\n",
    "├── presentation.pdf\n",
    "└── README.md\n",
    "```"
   ]
  },
  {
   "cell_type": "markdown",
   "metadata": {},
   "source": [
    "## Data Preprocessing"
   ]
  },
  {
   "cell_type": "code",
   "execution_count": 4,
   "metadata": {},
   "outputs": [],
   "source": [
    "import numpy as np\n",
    "import pandas as pd\n",
    "import seaborn as sns\n",
    "import matplotlib.pyplot as plt\n",
    "%matplotlib inline\n",
    "\n",
    "# from sklearn import metrics\n",
    "from sklearn.preprocessing import LabelEncoder\n",
    "from sklearn.ensemble import RandomForestClassifier\n",
    "from sklearn.model_selection import train_test_split, StratifiedKFold\n",
    "from sklearn.metrics import confusion_matrix, plot_confusion_matrix, classification_report,mean_squared_error, roc_auc_score, make_scorer\n",
    "from sklearn.metrics import recall_score\n",
    "\n",
    "import lazypredict\n",
    "# from lazypredict.Supervised import LazyClassifier\n",
    "\n",
    "import xgboost as xgb\n",
    "from bayes_opt import BayesianOptimization\n",
    "\n",
    "# import tensorflow as tf\n",
    "# from tensorflow.keras.layers import Dense, Dropout\n",
    "\n",
    "pd.set_option('display.max_columns', None)\n",
    "import warnings; warnings.simplefilter('ignore')"
   ]
  },
  {
   "cell_type": "code",
   "execution_count": 5,
   "metadata": {},
   "outputs": [],
   "source": [
    "pd.set_option('display.max_columns', None)\n",
    "import warnings; warnings.simplefilter('ignore')"
   ]
  },
  {
   "cell_type": "code",
   "execution_count": 6,
   "metadata": {},
   "outputs": [],
   "source": [
    "# lets load in both datasets for each year\n",
    "symptoms20 = pd.read_csv('../data/2020/symptoms20.csv', index_col=['VAERS_ID'], encoding='latin-1')\n",
    "data20     = pd.read_csv('../data/2020/data20.csv', index_col=['VAERS_ID'], encoding='latin-1')\n",
    "vax20      = pd.read_csv('../data/2020/vax20.csv', index_col=['VAERS_ID'], encoding='latin-1')\n",
    "\n",
    "symptoms21 = pd.read_csv('../data/2021/symptoms21.csv', index_col=['VAERS_ID'], encoding='latin-1')\n",
    "data21     = pd.read_csv('../data/2021/data21.csv', index_col=['VAERS_ID'], encoding='latin-1')\n",
    "vax21      = pd.read_csv('../data/2021/vax21.csv', index_col=['VAERS_ID'], encoding='latin-1')"
   ]
  },
  {
   "cell_type": "code",
   "execution_count": 7,
   "metadata": {},
   "outputs": [],
   "source": [
    "combined_vax = pd.concat([vax20, vax21])\n",
    "combined_data = pd.concat([data20, data21])\n",
    "combined_symptoms = pd.concat([symptoms20, symptoms21])"
   ]
  },
  {
   "cell_type": "code",
   "execution_count": 8,
   "metadata": {},
   "outputs": [],
   "source": [
    "datavax = pd.merge(combined_data, combined_vax, on='VAERS_ID', how='right')\n",
    "dvs = pd.merge(datavax, combined_symptoms, on='VAERS_ID', how='left')"
   ]
  },
  {
   "cell_type": "code",
   "execution_count": 9,
   "metadata": {},
   "outputs": [],
   "source": [
    "# isolating covid-19 vaccinations for the base dataframe\n",
    "df = dvs[dvs['VAX_TYPE'] == 'COVID19']"
   ]
  },
  {
   "cell_type": "code",
   "execution_count": 10,
   "metadata": {},
   "outputs": [],
   "source": [
    "df.drop_duplicates(inplace=True)"
   ]
  },
  {
   "cell_type": "code",
   "execution_count": 11,
   "metadata": {},
   "outputs": [],
   "source": [
    "df['DIED'] = df['DIED'].fillna(0)\n",
    "df['DIED'] = df['DIED'].replace('Y', 1)\n",
    "\n",
    "df['SEX'] = df['SEX'].replace('U', '0')\n",
    "df['SEX'] = df['SEX'].replace('F', '0')\n",
    "df['SEX'] = df['SEX'].replace('M', '1')\n",
    "\n",
    "df['L_THREAT'] = df['L_THREAT'].fillna(0)\n",
    "df['L_THREAT'] = df['L_THREAT'].replace('Y', 1)\n",
    "\n",
    "df['HOSPITAL'] = df['HOSPITAL'].fillna(0)\n",
    "df['HOSPITAL'] = df['HOSPITAL'].replace('Y', 1)\n",
    "\n",
    "df['HOSPDAYS'] = df['HOSPDAYS'].fillna(0)\n",
    "\n",
    "df['X_STAY'] = df['X_STAY'].fillna(0)\n",
    "df['X_STAY'] = df['X_STAY'].replace('Y', 1)\n",
    "\n",
    "df['DISABLE'] = df['DISABLE'].fillna(0)\n",
    "df['DISABLE'] = df['DISABLE'].replace('Y', 1)\n",
    "\n",
    "df['RECOVD'] = df['RECOVD'].fillna(0)\n",
    "df['RECOVD'] = df['RECOVD'].replace('U', 0)\n",
    "df['RECOVD'] = df['RECOVD'].replace('N', 0)\n",
    "df['RECOVD'] = df['RECOVD'].replace('Y', 1)\n",
    "\n",
    "df['BIRTH_DEFECT'] = df['BIRTH_DEFECT'].fillna(0)\n",
    "df['BIRTH_DEFECT'] = df['BIRTH_DEFECT'].replace('Y', 1)\n",
    "\n",
    "df['VAX_DOSE_SERIES'] = df['VAX_DOSE_SERIES'].fillna(0)\n",
    "df['VAX_DOSE_SERIES'] = df['VAX_DOSE_SERIES'].replace('7+', 7)\n",
    "df['VAX_DOSE_SERIES'] = df['VAX_DOSE_SERIES'].replace('UNK', 1)\n",
    "\n",
    "df['NUMDAYS'] = df['NUMDAYS'].where(df['NUMDAYS']<120, 7)"
   ]
  },
  {
   "cell_type": "code",
   "execution_count": 12,
   "metadata": {},
   "outputs": [],
   "source": [
    "df['SEX'] = df['SEX'].astype(int)\n",
    "df['AGE_YRS'] = df['AGE_YRS'].fillna(50)\n",
    "df['AGE_YRS'] = df['AGE_YRS'].astype(int)\n",
    "df['HOSPDAYS'] = df['HOSPDAYS'].astype(int)\n",
    "df['NUMDAYS'] = df['NUMDAYS'].astype(int)\n",
    "df['VAX_DOSE_SERIES'] = df['VAX_DOSE_SERIES'].astype(int)"
   ]
  },
  {
   "cell_type": "code",
   "execution_count": 13,
   "metadata": {},
   "outputs": [
    {
     "data": {
      "text/plain": [
       "LA    39272\n",
       "RA    15127\n",
       "AR     1380\n",
       "UN     1207\n",
       "OT       35\n",
       "LL       29\n",
       "RL       10\n",
       "GM        3\n",
       "LG        3\n",
       "Name: VAX_SITE, dtype: int64"
      ]
     },
     "execution_count": 13,
     "metadata": {},
     "output_type": "execute_result"
    }
   ],
   "source": [
    "df['VAX_SITE'].value_counts()"
   ]
  },
  {
   "cell_type": "markdown",
   "metadata": {},
   "source": [
    "# EDA"
   ]
  },
  {
   "cell_type": "code",
   "execution_count": 32,
   "metadata": {
    "scrolled": true
   },
   "outputs": [
    {
     "data": {
      "text/plain": [
       "VAERS_ID\n",
       "902440     PFIZER\\BIONTECH\n",
       "902446     PFIZER\\BIONTECH\n",
       "902464     PFIZER\\BIONTECH\n",
       "902465     PFIZER\\BIONTECH\n",
       "902465     PFIZER\\BIONTECH\n",
       "                ...       \n",
       "1135949            JANSSEN\n",
       "1136535            JANSSEN\n",
       "1136622            JANSSEN\n",
       "1136908            JANSSEN\n",
       "1136908            JANSSEN\n",
       "Name: VAX_MANU, Length: 70455, dtype: object"
      ]
     },
     "execution_count": 32,
     "metadata": {},
     "output_type": "execute_result"
    }
   ],
   "source": [
    "df['VAX_MANU']"
   ]
  },
  {
   "cell_type": "code",
   "execution_count": 17,
   "metadata": {
    "scrolled": true
   },
   "outputs": [
    {
     "ename": "ValueError",
     "evalue": "Could not interpret input 'abbrev'",
     "output_type": "error",
     "traceback": [
      "\u001b[1;31m---------------------------------------------------------------------------\u001b[0m",
      "\u001b[1;31mValueError\u001b[0m                                Traceback (most recent call last)",
      "\u001b[1;32m<ipython-input-17-334b1f5fd6f0>\u001b[0m in \u001b[0;36m<module>\u001b[1;34m\u001b[0m\n\u001b[0;32m      3\u001b[0m \u001b[0mf\u001b[0m\u001b[1;33m,\u001b[0m \u001b[0max\u001b[0m \u001b[1;33m=\u001b[0m \u001b[0mplt\u001b[0m\u001b[1;33m.\u001b[0m\u001b[0msubplots\u001b[0m\u001b[1;33m(\u001b[0m\u001b[0mfigsize\u001b[0m\u001b[1;33m=\u001b[0m\u001b[1;33m(\u001b[0m\u001b[1;36m6\u001b[0m\u001b[1;33m,\u001b[0m \u001b[1;36m15\u001b[0m\u001b[1;33m)\u001b[0m\u001b[1;33m)\u001b[0m\u001b[1;33m\u001b[0m\u001b[1;33m\u001b[0m\u001b[0m\n\u001b[0;32m      4\u001b[0m \u001b[0msns\u001b[0m\u001b[1;33m.\u001b[0m\u001b[0mset_color_codes\u001b[0m\u001b[1;33m(\u001b[0m\u001b[1;34m\"pastel\"\u001b[0m\u001b[1;33m)\u001b[0m\u001b[1;33m\u001b[0m\u001b[1;33m\u001b[0m\u001b[0m\n\u001b[1;32m----> 5\u001b[1;33m sns.barplot(x=\"RECOVD\", y=\"abbrev\", data=df,\n\u001b[0m\u001b[0;32m      6\u001b[0m             label=\"Total\", color=\"b\")\n\u001b[0;32m      7\u001b[0m \u001b[1;33m\u001b[0m\u001b[0m\n",
      "\u001b[1;32m~\\anaconda3\\envs\\test-env\\lib\\site-packages\\seaborn\\_decorators.py\u001b[0m in \u001b[0;36minner_f\u001b[1;34m(*args, **kwargs)\u001b[0m\n\u001b[0;32m     44\u001b[0m             )\n\u001b[0;32m     45\u001b[0m         \u001b[0mkwargs\u001b[0m\u001b[1;33m.\u001b[0m\u001b[0mupdate\u001b[0m\u001b[1;33m(\u001b[0m\u001b[1;33m{\u001b[0m\u001b[0mk\u001b[0m\u001b[1;33m:\u001b[0m \u001b[0marg\u001b[0m \u001b[1;32mfor\u001b[0m \u001b[0mk\u001b[0m\u001b[1;33m,\u001b[0m \u001b[0marg\u001b[0m \u001b[1;32min\u001b[0m \u001b[0mzip\u001b[0m\u001b[1;33m(\u001b[0m\u001b[0msig\u001b[0m\u001b[1;33m.\u001b[0m\u001b[0mparameters\u001b[0m\u001b[1;33m,\u001b[0m \u001b[0margs\u001b[0m\u001b[1;33m)\u001b[0m\u001b[1;33m}\u001b[0m\u001b[1;33m)\u001b[0m\u001b[1;33m\u001b[0m\u001b[1;33m\u001b[0m\u001b[0m\n\u001b[1;32m---> 46\u001b[1;33m         \u001b[1;32mreturn\u001b[0m \u001b[0mf\u001b[0m\u001b[1;33m(\u001b[0m\u001b[1;33m**\u001b[0m\u001b[0mkwargs\u001b[0m\u001b[1;33m)\u001b[0m\u001b[1;33m\u001b[0m\u001b[1;33m\u001b[0m\u001b[0m\n\u001b[0m\u001b[0;32m     47\u001b[0m     \u001b[1;32mreturn\u001b[0m \u001b[0minner_f\u001b[0m\u001b[1;33m\u001b[0m\u001b[1;33m\u001b[0m\u001b[0m\n\u001b[0;32m     48\u001b[0m \u001b[1;33m\u001b[0m\u001b[0m\n",
      "\u001b[1;32m~\\anaconda3\\envs\\test-env\\lib\\site-packages\\seaborn\\categorical.py\u001b[0m in \u001b[0;36mbarplot\u001b[1;34m(x, y, hue, data, order, hue_order, estimator, ci, n_boot, units, seed, orient, color, palette, saturation, errcolor, errwidth, capsize, dodge, ax, **kwargs)\u001b[0m\n\u001b[0;32m   3177\u001b[0m ):\n\u001b[0;32m   3178\u001b[0m \u001b[1;33m\u001b[0m\u001b[0m\n\u001b[1;32m-> 3179\u001b[1;33m     plotter = _BarPlotter(x, y, hue, data, order, hue_order,\n\u001b[0m\u001b[0;32m   3180\u001b[0m                           \u001b[0mestimator\u001b[0m\u001b[1;33m,\u001b[0m \u001b[0mci\u001b[0m\u001b[1;33m,\u001b[0m \u001b[0mn_boot\u001b[0m\u001b[1;33m,\u001b[0m \u001b[0munits\u001b[0m\u001b[1;33m,\u001b[0m \u001b[0mseed\u001b[0m\u001b[1;33m,\u001b[0m\u001b[1;33m\u001b[0m\u001b[1;33m\u001b[0m\u001b[0m\n\u001b[0;32m   3181\u001b[0m                           \u001b[0morient\u001b[0m\u001b[1;33m,\u001b[0m \u001b[0mcolor\u001b[0m\u001b[1;33m,\u001b[0m \u001b[0mpalette\u001b[0m\u001b[1;33m,\u001b[0m \u001b[0msaturation\u001b[0m\u001b[1;33m,\u001b[0m\u001b[1;33m\u001b[0m\u001b[1;33m\u001b[0m\u001b[0m\n",
      "\u001b[1;32m~\\anaconda3\\envs\\test-env\\lib\\site-packages\\seaborn\\categorical.py\u001b[0m in \u001b[0;36m__init__\u001b[1;34m(self, x, y, hue, data, order, hue_order, estimator, ci, n_boot, units, seed, orient, color, palette, saturation, errcolor, errwidth, capsize, dodge)\u001b[0m\n\u001b[0;32m   1582\u001b[0m                  errwidth, capsize, dodge):\n\u001b[0;32m   1583\u001b[0m         \u001b[1;34m\"\"\"Initialize the plotter.\"\"\"\u001b[0m\u001b[1;33m\u001b[0m\u001b[1;33m\u001b[0m\u001b[0m\n\u001b[1;32m-> 1584\u001b[1;33m         self.establish_variables(x, y, hue, data, orient,\n\u001b[0m\u001b[0;32m   1585\u001b[0m                                  order, hue_order, units)\n\u001b[0;32m   1586\u001b[0m         \u001b[0mself\u001b[0m\u001b[1;33m.\u001b[0m\u001b[0mestablish_colors\u001b[0m\u001b[1;33m(\u001b[0m\u001b[0mcolor\u001b[0m\u001b[1;33m,\u001b[0m \u001b[0mpalette\u001b[0m\u001b[1;33m,\u001b[0m \u001b[0msaturation\u001b[0m\u001b[1;33m)\u001b[0m\u001b[1;33m\u001b[0m\u001b[1;33m\u001b[0m\u001b[0m\n",
      "\u001b[1;32m~\\anaconda3\\envs\\test-env\\lib\\site-packages\\seaborn\\categorical.py\u001b[0m in \u001b[0;36mestablish_variables\u001b[1;34m(self, x, y, hue, data, orient, order, hue_order, units)\u001b[0m\n\u001b[0;32m    151\u001b[0m                 \u001b[1;32mif\u001b[0m \u001b[0misinstance\u001b[0m\u001b[1;33m(\u001b[0m\u001b[0mvar\u001b[0m\u001b[1;33m,\u001b[0m \u001b[0mstr\u001b[0m\u001b[1;33m)\u001b[0m\u001b[1;33m:\u001b[0m\u001b[1;33m\u001b[0m\u001b[1;33m\u001b[0m\u001b[0m\n\u001b[0;32m    152\u001b[0m                     \u001b[0merr\u001b[0m \u001b[1;33m=\u001b[0m \u001b[1;34m\"Could not interpret input '{}'\"\u001b[0m\u001b[1;33m.\u001b[0m\u001b[0mformat\u001b[0m\u001b[1;33m(\u001b[0m\u001b[0mvar\u001b[0m\u001b[1;33m)\u001b[0m\u001b[1;33m\u001b[0m\u001b[1;33m\u001b[0m\u001b[0m\n\u001b[1;32m--> 153\u001b[1;33m                     \u001b[1;32mraise\u001b[0m \u001b[0mValueError\u001b[0m\u001b[1;33m(\u001b[0m\u001b[0merr\u001b[0m\u001b[1;33m)\u001b[0m\u001b[1;33m\u001b[0m\u001b[1;33m\u001b[0m\u001b[0m\n\u001b[0m\u001b[0;32m    154\u001b[0m \u001b[1;33m\u001b[0m\u001b[0m\n\u001b[0;32m    155\u001b[0m             \u001b[1;31m# Figure out the plotting orientation\u001b[0m\u001b[1;33m\u001b[0m\u001b[1;33m\u001b[0m\u001b[1;33m\u001b[0m\u001b[0m\n",
      "\u001b[1;31mValueError\u001b[0m: Could not interpret input 'abbrev'"
     ]
    },
    {
     "data": {
      "image/png": "[encoded data removed]",
      "text/plain": [
       "<Figure size 432x1080 with 1 Axes>"
      ]
     },
     "metadata": {},
     "output_type": "display_data"
    }
   ],
   "source": [
    "sns.set_theme(style=\"whitegrid\")\n",
    "\n",
    "f, ax = plt.subplots(figsize=(6, 15))\n",
    "sns.set_color_codes(\"pastel\")\n",
    "sns.barplot(x=\"RECOVD\", y=\"abbrev\", data=df,\n",
    "            label=\"Total\", color=\"b\")\n",
    "\n",
    "# Plot the crashes where alcohol was involved\n",
    "sns.set_color_codes(\"muted\")\n",
    "sns.barplot(x=\"DIED\", y=\"abbrev\", data=df,\n",
    "            label=\"Alcohol-involved\", color=\"b\")\n",
    "\n",
    "# Add a legend and informative axis label\n",
    "ax.legend(ncol=2, loc=\"lower right\", frameon=True)\n",
    "ax.set(xlim=(0, 24), ylabel=\"\",\n",
    "       xlabel=\"Automobile collisions per billion miles\")\n",
    "sns.despine(left=True, bottom=True)"
   ]
  },
  {
   "cell_type": "code",
   "execution_count": 33,
   "metadata": {},
   "outputs": [],
   "source": [
    "df_mod = df[df['VAX_MANU']=='MODERNA']\n",
    "df_phi = df[df['VAX_MANU']=='PFIZER\\BIONTECH']\n",
    "df_jaj = df[df['VAX_MANU']=='JANSSEN']"
   ]
  },
  {
   "cell_type": "code",
   "execution_count": 36,
   "metadata": {},
   "outputs": [
    {
     "data": {
      "text/html": [
       "<div>\n",
       "<style scoped>\n",
       "    .dataframe tbody tr th:only-of-type {\n",
       "        vertical-align: middle;\n",
       "    }\n",
       "\n",
       "    .dataframe tbody tr th {\n",
       "        vertical-align: top;\n",
       "    }\n",
       "\n",
       "    .dataframe thead th {\n",
       "        text-align: right;\n",
       "    }\n",
       "</style>\n",
       "<table border=\"1\" class=\"dataframe\">\n",
       "  <thead>\n",
       "    <tr style=\"text-align: right;\">\n",
       "      <th></th>\n",
       "      <th>RECVDATE</th>\n",
       "      <th>STATE</th>\n",
       "      <th>AGE_YRS</th>\n",
       "      <th>CAGE_YR</th>\n",
       "      <th>CAGE_MO</th>\n",
       "      <th>SEX</th>\n",
       "      <th>RPT_DATE</th>\n",
       "      <th>SYMPTOM_TEXT</th>\n",
       "      <th>DIED</th>\n",
       "      <th>DATEDIED</th>\n",
       "      <th>L_THREAT</th>\n",
       "      <th>ER_VISIT</th>\n",
       "      <th>HOSPITAL</th>\n",
       "      <th>HOSPDAYS</th>\n",
       "      <th>X_STAY</th>\n",
       "      <th>DISABLE</th>\n",
       "      <th>RECOVD</th>\n",
       "      <th>VAX_DATE</th>\n",
       "      <th>ONSET_DATE</th>\n",
       "      <th>NUMDAYS</th>\n",
       "      <th>LAB_DATA</th>\n",
       "      <th>V_ADMINBY</th>\n",
       "      <th>V_FUNDBY</th>\n",
       "      <th>OTHER_MEDS</th>\n",
       "      <th>CUR_ILL</th>\n",
       "      <th>HISTORY</th>\n",
       "      <th>PRIOR_VAX</th>\n",
       "      <th>SPLTTYPE</th>\n",
       "      <th>FORM_VERS</th>\n",
       "      <th>TODAYS_DATE</th>\n",
       "      <th>BIRTH_DEFECT</th>\n",
       "      <th>OFC_VISIT</th>\n",
       "      <th>ER_ED_VISIT</th>\n",
       "      <th>ALLERGIES</th>\n",
       "      <th>VAX_TYPE</th>\n",
       "      <th>VAX_MANU</th>\n",
       "      <th>VAX_LOT</th>\n",
       "      <th>VAX_DOSE_SERIES</th>\n",
       "      <th>VAX_ROUTE</th>\n",
       "      <th>VAX_SITE</th>\n",
       "      <th>VAX_NAME</th>\n",
       "      <th>SYMPTOM1</th>\n",
       "      <th>SYMPTOMVERSION1</th>\n",
       "      <th>SYMPTOM2</th>\n",
       "      <th>SYMPTOMVERSION2</th>\n",
       "      <th>SYMPTOM3</th>\n",
       "      <th>SYMPTOMVERSION3</th>\n",
       "      <th>SYMPTOM4</th>\n",
       "      <th>SYMPTOMVERSION4</th>\n",
       "      <th>SYMPTOM5</th>\n",
       "      <th>SYMPTOMVERSION5</th>\n",
       "    </tr>\n",
       "    <tr>\n",
       "      <th>VAERS_ID</th>\n",
       "      <th></th>\n",
       "      <th></th>\n",
       "      <th></th>\n",
       "      <th></th>\n",
       "      <th></th>\n",
       "      <th></th>\n",
       "      <th></th>\n",
       "      <th></th>\n",
       "      <th></th>\n",
       "      <th></th>\n",
       "      <th></th>\n",
       "      <th></th>\n",
       "      <th></th>\n",
       "      <th></th>\n",
       "      <th></th>\n",
       "      <th></th>\n",
       "      <th></th>\n",
       "      <th></th>\n",
       "      <th></th>\n",
       "      <th></th>\n",
       "      <th></th>\n",
       "      <th></th>\n",
       "      <th></th>\n",
       "      <th></th>\n",
       "      <th></th>\n",
       "      <th></th>\n",
       "      <th></th>\n",
       "      <th></th>\n",
       "      <th></th>\n",
       "      <th></th>\n",
       "      <th></th>\n",
       "      <th></th>\n",
       "      <th></th>\n",
       "      <th></th>\n",
       "      <th></th>\n",
       "      <th></th>\n",
       "      <th></th>\n",
       "      <th></th>\n",
       "      <th></th>\n",
       "      <th></th>\n",
       "      <th></th>\n",
       "      <th></th>\n",
       "      <th></th>\n",
       "      <th></th>\n",
       "      <th></th>\n",
       "      <th></th>\n",
       "      <th></th>\n",
       "      <th></th>\n",
       "      <th></th>\n",
       "      <th></th>\n",
       "      <th></th>\n",
       "    </tr>\n",
       "  </thead>\n",
       "  <tbody>\n",
       "    <tr>\n",
       "      <th>1067448</th>\n",
       "      <td>03/02/2021</td>\n",
       "      <td>NaN</td>\n",
       "      <td>22</td>\n",
       "      <td>22.0</td>\n",
       "      <td>NaN</td>\n",
       "      <td>1</td>\n",
       "      <td>NaN</td>\n",
       "      <td>None stated.</td>\n",
       "      <td>0</td>\n",
       "      <td>NaN</td>\n",
       "      <td>0</td>\n",
       "      <td>NaN</td>\n",
       "      <td>0</td>\n",
       "      <td>0</td>\n",
       "      <td>0</td>\n",
       "      <td>0</td>\n",
       "      <td>0</td>\n",
       "      <td>03/01/2021</td>\n",
       "      <td>03/03/2021</td>\n",
       "      <td>2</td>\n",
       "      <td>NaN</td>\n",
       "      <td>UNK</td>\n",
       "      <td>NaN</td>\n",
       "      <td>NaN</td>\n",
       "      <td>NaN</td>\n",
       "      <td>NaN</td>\n",
       "      <td>NaN</td>\n",
       "      <td>NaN</td>\n",
       "      <td>2</td>\n",
       "      <td>03/02/2021</td>\n",
       "      <td>0</td>\n",
       "      <td>NaN</td>\n",
       "      <td>NaN</td>\n",
       "      <td>NaN</td>\n",
       "      <td>COVID19</td>\n",
       "      <td>JANSSEN</td>\n",
       "      <td>NaN</td>\n",
       "      <td>1</td>\n",
       "      <td>NaN</td>\n",
       "      <td>NaN</td>\n",
       "      <td>COVID19 (COVID19 (JANSSEN))</td>\n",
       "      <td>Unevaluable event</td>\n",
       "      <td>23.1</td>\n",
       "      <td>NaN</td>\n",
       "      <td>NaN</td>\n",
       "      <td>NaN</td>\n",
       "      <td>NaN</td>\n",
       "      <td>NaN</td>\n",
       "      <td>NaN</td>\n",
       "      <td>NaN</td>\n",
       "      <td>NaN</td>\n",
       "    </tr>\n",
       "    <tr>\n",
       "      <th>1070055</th>\n",
       "      <td>03/03/2021</td>\n",
       "      <td>OH</td>\n",
       "      <td>66</td>\n",
       "      <td>66.0</td>\n",
       "      <td>NaN</td>\n",
       "      <td>0</td>\n",
       "      <td>NaN</td>\n",
       "      <td>Severe headache 10/10, nausea, vomiting, temp ...</td>\n",
       "      <td>0</td>\n",
       "      <td>NaN</td>\n",
       "      <td>0</td>\n",
       "      <td>NaN</td>\n",
       "      <td>0</td>\n",
       "      <td>0</td>\n",
       "      <td>0</td>\n",
       "      <td>0</td>\n",
       "      <td>0</td>\n",
       "      <td>03/02/2021</td>\n",
       "      <td>03/02/2021</td>\n",
       "      <td>0</td>\n",
       "      <td>NaN</td>\n",
       "      <td>PHM</td>\n",
       "      <td>NaN</td>\n",
       "      <td>NaN</td>\n",
       "      <td>NaN</td>\n",
       "      <td>NaN</td>\n",
       "      <td>NaN</td>\n",
       "      <td>NaN</td>\n",
       "      <td>2</td>\n",
       "      <td>03/03/2021</td>\n",
       "      <td>0</td>\n",
       "      <td>NaN</td>\n",
       "      <td>NaN</td>\n",
       "      <td>NaN</td>\n",
       "      <td>COVID19</td>\n",
       "      <td>JANSSEN</td>\n",
       "      <td>1802068</td>\n",
       "      <td>1</td>\n",
       "      <td>IM</td>\n",
       "      <td>RA</td>\n",
       "      <td>COVID19 (COVID19 (JANSSEN))</td>\n",
       "      <td>Headache</td>\n",
       "      <td>24.0</td>\n",
       "      <td>Nausea</td>\n",
       "      <td>24.0</td>\n",
       "      <td>Vomiting</td>\n",
       "      <td>24.0</td>\n",
       "      <td>NaN</td>\n",
       "      <td>NaN</td>\n",
       "      <td>NaN</td>\n",
       "      <td>NaN</td>\n",
       "    </tr>\n",
       "    <tr>\n",
       "      <th>1070546</th>\n",
       "      <td>03/03/2021</td>\n",
       "      <td>NE</td>\n",
       "      <td>26</td>\n",
       "      <td>26.0</td>\n",
       "      <td>NaN</td>\n",
       "      <td>1</td>\n",
       "      <td>NaN</td>\n",
       "      <td>Immediate burning in both arms. Unable to hold...</td>\n",
       "      <td>0</td>\n",
       "      <td>NaN</td>\n",
       "      <td>0</td>\n",
       "      <td>NaN</td>\n",
       "      <td>0</td>\n",
       "      <td>0</td>\n",
       "      <td>0</td>\n",
       "      <td>0</td>\n",
       "      <td>0</td>\n",
       "      <td>03/03/2021</td>\n",
       "      <td>03/03/2021</td>\n",
       "      <td>0</td>\n",
       "      <td>HOSPITAL DID NONE, all that was given was chil...</td>\n",
       "      <td>WRK</td>\n",
       "      <td>NaN</td>\n",
       "      <td>Vitamin D3 gummies 200mcg PO QD</td>\n",
       "      <td>None</td>\n",
       "      <td>None</td>\n",
       "      <td>NaN</td>\n",
       "      <td>NaN</td>\n",
       "      <td>2</td>\n",
       "      <td>03/03/2021</td>\n",
       "      <td>0</td>\n",
       "      <td>NaN</td>\n",
       "      <td>Y</td>\n",
       "      <td>NKDA</td>\n",
       "      <td>COVID19</td>\n",
       "      <td>JANSSEN</td>\n",
       "      <td>NaN</td>\n",
       "      <td>1</td>\n",
       "      <td>IM</td>\n",
       "      <td>LA</td>\n",
       "      <td>COVID19 (COVID19 (JANSSEN))</td>\n",
       "      <td>Burning sensation</td>\n",
       "      <td>24.0</td>\n",
       "      <td>Erythema</td>\n",
       "      <td>24.0</td>\n",
       "      <td>Eye pain</td>\n",
       "      <td>24.0</td>\n",
       "      <td>Grip strength decreased</td>\n",
       "      <td>24.0</td>\n",
       "      <td>Hyperhidrosis</td>\n",
       "      <td>24.0</td>\n",
       "    </tr>\n",
       "    <tr>\n",
       "      <th>1070546</th>\n",
       "      <td>03/03/2021</td>\n",
       "      <td>NE</td>\n",
       "      <td>26</td>\n",
       "      <td>26.0</td>\n",
       "      <td>NaN</td>\n",
       "      <td>1</td>\n",
       "      <td>NaN</td>\n",
       "      <td>Immediate burning in both arms. Unable to hold...</td>\n",
       "      <td>0</td>\n",
       "      <td>NaN</td>\n",
       "      <td>0</td>\n",
       "      <td>NaN</td>\n",
       "      <td>0</td>\n",
       "      <td>0</td>\n",
       "      <td>0</td>\n",
       "      <td>0</td>\n",
       "      <td>0</td>\n",
       "      <td>03/03/2021</td>\n",
       "      <td>03/03/2021</td>\n",
       "      <td>0</td>\n",
       "      <td>HOSPITAL DID NONE, all that was given was chil...</td>\n",
       "      <td>WRK</td>\n",
       "      <td>NaN</td>\n",
       "      <td>Vitamin D3 gummies 200mcg PO QD</td>\n",
       "      <td>None</td>\n",
       "      <td>None</td>\n",
       "      <td>NaN</td>\n",
       "      <td>NaN</td>\n",
       "      <td>2</td>\n",
       "      <td>03/03/2021</td>\n",
       "      <td>0</td>\n",
       "      <td>NaN</td>\n",
       "      <td>Y</td>\n",
       "      <td>NKDA</td>\n",
       "      <td>COVID19</td>\n",
       "      <td>JANSSEN</td>\n",
       "      <td>NaN</td>\n",
       "      <td>1</td>\n",
       "      <td>IM</td>\n",
       "      <td>LA</td>\n",
       "      <td>COVID19 (COVID19 (JANSSEN))</td>\n",
       "      <td>Hypoaesthesia</td>\n",
       "      <td>24.0</td>\n",
       "      <td>Immediate post-injection reaction</td>\n",
       "      <td>24.0</td>\n",
       "      <td>Injection site pain</td>\n",
       "      <td>24.0</td>\n",
       "      <td>Injection site streaking</td>\n",
       "      <td>24.0</td>\n",
       "      <td>Loss of consciousness</td>\n",
       "      <td>24.0</td>\n",
       "    </tr>\n",
       "    <tr>\n",
       "      <th>1070546</th>\n",
       "      <td>03/03/2021</td>\n",
       "      <td>NE</td>\n",
       "      <td>26</td>\n",
       "      <td>26.0</td>\n",
       "      <td>NaN</td>\n",
       "      <td>1</td>\n",
       "      <td>NaN</td>\n",
       "      <td>Immediate burning in both arms. Unable to hold...</td>\n",
       "      <td>0</td>\n",
       "      <td>NaN</td>\n",
       "      <td>0</td>\n",
       "      <td>NaN</td>\n",
       "      <td>0</td>\n",
       "      <td>0</td>\n",
       "      <td>0</td>\n",
       "      <td>0</td>\n",
       "      <td>0</td>\n",
       "      <td>03/03/2021</td>\n",
       "      <td>03/03/2021</td>\n",
       "      <td>0</td>\n",
       "      <td>HOSPITAL DID NONE, all that was given was chil...</td>\n",
       "      <td>WRK</td>\n",
       "      <td>NaN</td>\n",
       "      <td>Vitamin D3 gummies 200mcg PO QD</td>\n",
       "      <td>None</td>\n",
       "      <td>None</td>\n",
       "      <td>NaN</td>\n",
       "      <td>NaN</td>\n",
       "      <td>2</td>\n",
       "      <td>03/03/2021</td>\n",
       "      <td>0</td>\n",
       "      <td>NaN</td>\n",
       "      <td>Y</td>\n",
       "      <td>NKDA</td>\n",
       "      <td>COVID19</td>\n",
       "      <td>JANSSEN</td>\n",
       "      <td>NaN</td>\n",
       "      <td>1</td>\n",
       "      <td>IM</td>\n",
       "      <td>LA</td>\n",
       "      <td>COVID19 (COVID19 (JANSSEN))</td>\n",
       "      <td>Muscular weakness</td>\n",
       "      <td>24.0</td>\n",
       "      <td>Nausea</td>\n",
       "      <td>24.0</td>\n",
       "      <td>Pain in extremity</td>\n",
       "      <td>24.0</td>\n",
       "      <td>Paraesthesia</td>\n",
       "      <td>24.0</td>\n",
       "      <td>Vision blurred</td>\n",
       "      <td>24.0</td>\n",
       "    </tr>\n",
       "    <tr>\n",
       "      <th>...</th>\n",
       "      <td>...</td>\n",
       "      <td>...</td>\n",
       "      <td>...</td>\n",
       "      <td>...</td>\n",
       "      <td>...</td>\n",
       "      <td>...</td>\n",
       "      <td>...</td>\n",
       "      <td>...</td>\n",
       "      <td>...</td>\n",
       "      <td>...</td>\n",
       "      <td>...</td>\n",
       "      <td>...</td>\n",
       "      <td>...</td>\n",
       "      <td>...</td>\n",
       "      <td>...</td>\n",
       "      <td>...</td>\n",
       "      <td>...</td>\n",
       "      <td>...</td>\n",
       "      <td>...</td>\n",
       "      <td>...</td>\n",
       "      <td>...</td>\n",
       "      <td>...</td>\n",
       "      <td>...</td>\n",
       "      <td>...</td>\n",
       "      <td>...</td>\n",
       "      <td>...</td>\n",
       "      <td>...</td>\n",
       "      <td>...</td>\n",
       "      <td>...</td>\n",
       "      <td>...</td>\n",
       "      <td>...</td>\n",
       "      <td>...</td>\n",
       "      <td>...</td>\n",
       "      <td>...</td>\n",
       "      <td>...</td>\n",
       "      <td>...</td>\n",
       "      <td>...</td>\n",
       "      <td>...</td>\n",
       "      <td>...</td>\n",
       "      <td>...</td>\n",
       "      <td>...</td>\n",
       "      <td>...</td>\n",
       "      <td>...</td>\n",
       "      <td>...</td>\n",
       "      <td>...</td>\n",
       "      <td>...</td>\n",
       "      <td>...</td>\n",
       "      <td>...</td>\n",
       "      <td>...</td>\n",
       "      <td>...</td>\n",
       "      <td>...</td>\n",
       "    </tr>\n",
       "    <tr>\n",
       "      <th>1135949</th>\n",
       "      <td>03/25/2021</td>\n",
       "      <td>WA</td>\n",
       "      <td>47</td>\n",
       "      <td>47.0</td>\n",
       "      <td>NaN</td>\n",
       "      <td>0</td>\n",
       "      <td>NaN</td>\n",
       "      <td>Hives, wheezing, itching,rash chest tightness ...</td>\n",
       "      <td>0</td>\n",
       "      <td>NaN</td>\n",
       "      <td>0</td>\n",
       "      <td>NaN</td>\n",
       "      <td>1</td>\n",
       "      <td>2</td>\n",
       "      <td>0</td>\n",
       "      <td>0</td>\n",
       "      <td>1</td>\n",
       "      <td>03/23/2021</td>\n",
       "      <td>03/23/2021</td>\n",
       "      <td>0</td>\n",
       "      <td>NaN</td>\n",
       "      <td>OTH</td>\n",
       "      <td>NaN</td>\n",
       "      <td>none</td>\n",
       "      <td>breast cancer, heart issue</td>\n",
       "      <td>NaN</td>\n",
       "      <td>NaN</td>\n",
       "      <td>NaN</td>\n",
       "      <td>2</td>\n",
       "      <td>03/25/2021</td>\n",
       "      <td>0</td>\n",
       "      <td>NaN</td>\n",
       "      <td>NaN</td>\n",
       "      <td>kadcyla, ciprofloxacin, codeine, vancoycin</td>\n",
       "      <td>COVID19</td>\n",
       "      <td>JANSSEN</td>\n",
       "      <td>1805020</td>\n",
       "      <td>1</td>\n",
       "      <td>SYR</td>\n",
       "      <td>LA</td>\n",
       "      <td>COVID19 (COVID19 (JANSSEN))</td>\n",
       "      <td>Wheezing</td>\n",
       "      <td>24.0</td>\n",
       "      <td>NaN</td>\n",
       "      <td>NaN</td>\n",
       "      <td>NaN</td>\n",
       "      <td>NaN</td>\n",
       "      <td>NaN</td>\n",
       "      <td>NaN</td>\n",
       "      <td>NaN</td>\n",
       "      <td>NaN</td>\n",
       "    </tr>\n",
       "    <tr>\n",
       "      <th>1136535</th>\n",
       "      <td>03/26/2021</td>\n",
       "      <td>MA</td>\n",
       "      <td>72</td>\n",
       "      <td>72.0</td>\n",
       "      <td>NaN</td>\n",
       "      <td>0</td>\n",
       "      <td>NaN</td>\n",
       "      <td>Patient reported fevers as high as 105 at reha...</td>\n",
       "      <td>0</td>\n",
       "      <td>NaN</td>\n",
       "      <td>0</td>\n",
       "      <td>NaN</td>\n",
       "      <td>1</td>\n",
       "      <td>2</td>\n",
       "      <td>0</td>\n",
       "      <td>0</td>\n",
       "      <td>0</td>\n",
       "      <td>03/19/2021</td>\n",
       "      <td>03/20/2021</td>\n",
       "      <td>1</td>\n",
       "      <td>NaN</td>\n",
       "      <td>UNK</td>\n",
       "      <td>NaN</td>\n",
       "      <td>Ponatinib, Chlorthalidone, Amio, Toprol, Amlod...</td>\n",
       "      <td>CML</td>\n",
       "      <td>CML</td>\n",
       "      <td>NaN</td>\n",
       "      <td>NaN</td>\n",
       "      <td>2</td>\n",
       "      <td>03/26/2021</td>\n",
       "      <td>0</td>\n",
       "      <td>NaN</td>\n",
       "      <td>NaN</td>\n",
       "      <td>Atorvastatin, Benazopril, Contrast, Isosorbide...</td>\n",
       "      <td>COVID19</td>\n",
       "      <td>JANSSEN</td>\n",
       "      <td>NaN</td>\n",
       "      <td>1</td>\n",
       "      <td>NaN</td>\n",
       "      <td>NaN</td>\n",
       "      <td>COVID19 (COVID19 (JANSSEN))</td>\n",
       "      <td>Asthenia</td>\n",
       "      <td>24.0</td>\n",
       "      <td>Myalgia</td>\n",
       "      <td>24.0</td>\n",
       "      <td>Pyrexia</td>\n",
       "      <td>24.0</td>\n",
       "      <td>NaN</td>\n",
       "      <td>NaN</td>\n",
       "      <td>NaN</td>\n",
       "      <td>NaN</td>\n",
       "    </tr>\n",
       "    <tr>\n",
       "      <th>1136622</th>\n",
       "      <td>03/26/2021</td>\n",
       "      <td>NY</td>\n",
       "      <td>70</td>\n",
       "      <td>70.0</td>\n",
       "      <td>NaN</td>\n",
       "      <td>1</td>\n",
       "      <td>NaN</td>\n",
       "      <td>Patient had cardiac arrest secondary to MI les...</td>\n",
       "      <td>0</td>\n",
       "      <td>NaN</td>\n",
       "      <td>0</td>\n",
       "      <td>NaN</td>\n",
       "      <td>0</td>\n",
       "      <td>0</td>\n",
       "      <td>1</td>\n",
       "      <td>0</td>\n",
       "      <td>1</td>\n",
       "      <td>03/24/2021</td>\n",
       "      <td>03/25/2021</td>\n",
       "      <td>1</td>\n",
       "      <td>NaN</td>\n",
       "      <td>PVT</td>\n",
       "      <td>NaN</td>\n",
       "      <td>NaN</td>\n",
       "      <td>ESRD on HD.  Recent Covid</td>\n",
       "      <td>H/O of HTN, DM2 on insulin, CAD, HF mrEF, brad...</td>\n",
       "      <td>NaN</td>\n",
       "      <td>NaN</td>\n",
       "      <td>2</td>\n",
       "      <td>03/26/2021</td>\n",
       "      <td>0</td>\n",
       "      <td>NaN</td>\n",
       "      <td>NaN</td>\n",
       "      <td>NKDA</td>\n",
       "      <td>COVID19</td>\n",
       "      <td>JANSSEN</td>\n",
       "      <td>1808609</td>\n",
       "      <td>1</td>\n",
       "      <td>IM</td>\n",
       "      <td>NaN</td>\n",
       "      <td>COVID19 (COVID19 (JANSSEN))</td>\n",
       "      <td>Cardiac arrest</td>\n",
       "      <td>24.0</td>\n",
       "      <td>NaN</td>\n",
       "      <td>NaN</td>\n",
       "      <td>NaN</td>\n",
       "      <td>NaN</td>\n",
       "      <td>NaN</td>\n",
       "      <td>NaN</td>\n",
       "      <td>NaN</td>\n",
       "      <td>NaN</td>\n",
       "    </tr>\n",
       "    <tr>\n",
       "      <th>1136908</th>\n",
       "      <td>03/26/2021</td>\n",
       "      <td>IN</td>\n",
       "      <td>41</td>\n",
       "      <td>41.0</td>\n",
       "      <td>NaN</td>\n",
       "      <td>1</td>\n",
       "      <td>NaN</td>\n",
       "      <td>Severe chills, shaking Fever of 101F  Knee par...</td>\n",
       "      <td>0</td>\n",
       "      <td>NaN</td>\n",
       "      <td>0</td>\n",
       "      <td>NaN</td>\n",
       "      <td>0</td>\n",
       "      <td>0</td>\n",
       "      <td>0</td>\n",
       "      <td>1</td>\n",
       "      <td>0</td>\n",
       "      <td>03/23/2021</td>\n",
       "      <td>03/24/2021</td>\n",
       "      <td>1</td>\n",
       "      <td>none</td>\n",
       "      <td>WRK</td>\n",
       "      <td>NaN</td>\n",
       "      <td>Wixela inhaler AM &amp; PM Nasacort 1/day Metoprol...</td>\n",
       "      <td>Shingles with Postherpetic neuralgia Fibromyalgia</td>\n",
       "      <td>Fibromyalgia Long-term covid symptoms</td>\n",
       "      <td>NaN</td>\n",
       "      <td>NaN</td>\n",
       "      <td>2</td>\n",
       "      <td>03/26/2021</td>\n",
       "      <td>0</td>\n",
       "      <td>Y</td>\n",
       "      <td>NaN</td>\n",
       "      <td>ciprofloxacin walnuts dairy</td>\n",
       "      <td>COVID19</td>\n",
       "      <td>JANSSEN</td>\n",
       "      <td>NaN</td>\n",
       "      <td>1</td>\n",
       "      <td>SYR</td>\n",
       "      <td>RA</td>\n",
       "      <td>COVID19 (COVID19 (JANSSEN))</td>\n",
       "      <td>Chills</td>\n",
       "      <td>24.0</td>\n",
       "      <td>Gait disturbance</td>\n",
       "      <td>24.0</td>\n",
       "      <td>Headache</td>\n",
       "      <td>24.0</td>\n",
       "      <td>Monoplegia</td>\n",
       "      <td>24.0</td>\n",
       "      <td>Pyrexia</td>\n",
       "      <td>24.0</td>\n",
       "    </tr>\n",
       "    <tr>\n",
       "      <th>1136908</th>\n",
       "      <td>03/26/2021</td>\n",
       "      <td>IN</td>\n",
       "      <td>41</td>\n",
       "      <td>41.0</td>\n",
       "      <td>NaN</td>\n",
       "      <td>1</td>\n",
       "      <td>NaN</td>\n",
       "      <td>Severe chills, shaking Fever of 101F  Knee par...</td>\n",
       "      <td>0</td>\n",
       "      <td>NaN</td>\n",
       "      <td>0</td>\n",
       "      <td>NaN</td>\n",
       "      <td>0</td>\n",
       "      <td>0</td>\n",
       "      <td>0</td>\n",
       "      <td>1</td>\n",
       "      <td>0</td>\n",
       "      <td>03/23/2021</td>\n",
       "      <td>03/24/2021</td>\n",
       "      <td>1</td>\n",
       "      <td>none</td>\n",
       "      <td>WRK</td>\n",
       "      <td>NaN</td>\n",
       "      <td>Wixela inhaler AM &amp; PM Nasacort 1/day Metoprol...</td>\n",
       "      <td>Shingles with Postherpetic neuralgia Fibromyalgia</td>\n",
       "      <td>Fibromyalgia Long-term covid symptoms</td>\n",
       "      <td>NaN</td>\n",
       "      <td>NaN</td>\n",
       "      <td>2</td>\n",
       "      <td>03/26/2021</td>\n",
       "      <td>0</td>\n",
       "      <td>Y</td>\n",
       "      <td>NaN</td>\n",
       "      <td>ciprofloxacin walnuts dairy</td>\n",
       "      <td>COVID19</td>\n",
       "      <td>JANSSEN</td>\n",
       "      <td>NaN</td>\n",
       "      <td>1</td>\n",
       "      <td>SYR</td>\n",
       "      <td>RA</td>\n",
       "      <td>COVID19 (COVID19 (JANSSEN))</td>\n",
       "      <td>Tremor</td>\n",
       "      <td>24.0</td>\n",
       "      <td>NaN</td>\n",
       "      <td>NaN</td>\n",
       "      <td>NaN</td>\n",
       "      <td>NaN</td>\n",
       "      <td>NaN</td>\n",
       "      <td>NaN</td>\n",
       "      <td>NaN</td>\n",
       "      <td>NaN</td>\n",
       "    </tr>\n",
       "  </tbody>\n",
       "</table>\n",
       "<p>3829 rows × 51 columns</p>\n",
       "</div>"
      ],
      "text/plain": [
       "            RECVDATE STATE  AGE_YRS  CAGE_YR  CAGE_MO  SEX RPT_DATE  \\\n",
       "VAERS_ID                                                              \n",
       "1067448   03/02/2021   NaN       22     22.0      NaN    1      NaN   \n",
       "1070055   03/03/2021    OH       66     66.0      NaN    0      NaN   \n",
       "1070546   03/03/2021    NE       26     26.0      NaN    1      NaN   \n",
       "1070546   03/03/2021    NE       26     26.0      NaN    1      NaN   \n",
       "1070546   03/03/2021    NE       26     26.0      NaN    1      NaN   \n",
       "...              ...   ...      ...      ...      ...  ...      ...   \n",
       "1135949   03/25/2021    WA       47     47.0      NaN    0      NaN   \n",
       "1136535   03/26/2021    MA       72     72.0      NaN    0      NaN   \n",
       "1136622   03/26/2021    NY       70     70.0      NaN    1      NaN   \n",
       "1136908   03/26/2021    IN       41     41.0      NaN    1      NaN   \n",
       "1136908   03/26/2021    IN       41     41.0      NaN    1      NaN   \n",
       "\n",
       "                                               SYMPTOM_TEXT  DIED DATEDIED  \\\n",
       "VAERS_ID                                                                     \n",
       "1067448                                        None stated.     0      NaN   \n",
       "1070055   Severe headache 10/10, nausea, vomiting, temp ...     0      NaN   \n",
       "1070546   Immediate burning in both arms. Unable to hold...     0      NaN   \n",
       "1070546   Immediate burning in both arms. Unable to hold...     0      NaN   \n",
       "1070546   Immediate burning in both arms. Unable to hold...     0      NaN   \n",
       "...                                                     ...   ...      ...   \n",
       "1135949   Hives, wheezing, itching,rash chest tightness ...     0      NaN   \n",
       "1136535   Patient reported fevers as high as 105 at reha...     0      NaN   \n",
       "1136622   Patient had cardiac arrest secondary to MI les...     0      NaN   \n",
       "1136908   Severe chills, shaking Fever of 101F  Knee par...     0      NaN   \n",
       "1136908   Severe chills, shaking Fever of 101F  Knee par...     0      NaN   \n",
       "\n",
       "          L_THREAT ER_VISIT  HOSPITAL  HOSPDAYS  X_STAY  DISABLE  RECOVD  \\\n",
       "VAERS_ID                                                                   \n",
       "1067448          0      NaN         0         0       0        0       0   \n",
       "1070055          0      NaN         0         0       0        0       0   \n",
       "1070546          0      NaN         0         0       0        0       0   \n",
       "1070546          0      NaN         0         0       0        0       0   \n",
       "1070546          0      NaN         0         0       0        0       0   \n",
       "...            ...      ...       ...       ...     ...      ...     ...   \n",
       "1135949          0      NaN         1         2       0        0       1   \n",
       "1136535          0      NaN         1         2       0        0       0   \n",
       "1136622          0      NaN         0         0       1        0       1   \n",
       "1136908          0      NaN         0         0       0        1       0   \n",
       "1136908          0      NaN         0         0       0        1       0   \n",
       "\n",
       "            VAX_DATE  ONSET_DATE  NUMDAYS  \\\n",
       "VAERS_ID                                    \n",
       "1067448   03/01/2021  03/03/2021        2   \n",
       "1070055   03/02/2021  03/02/2021        0   \n",
       "1070546   03/03/2021  03/03/2021        0   \n",
       "1070546   03/03/2021  03/03/2021        0   \n",
       "1070546   03/03/2021  03/03/2021        0   \n",
       "...              ...         ...      ...   \n",
       "1135949   03/23/2021  03/23/2021        0   \n",
       "1136535   03/19/2021  03/20/2021        1   \n",
       "1136622   03/24/2021  03/25/2021        1   \n",
       "1136908   03/23/2021  03/24/2021        1   \n",
       "1136908   03/23/2021  03/24/2021        1   \n",
       "\n",
       "                                                   LAB_DATA V_ADMINBY  \\\n",
       "VAERS_ID                                                                \n",
       "1067448                                                 NaN       UNK   \n",
       "1070055                                                 NaN       PHM   \n",
       "1070546   HOSPITAL DID NONE, all that was given was chil...       WRK   \n",
       "1070546   HOSPITAL DID NONE, all that was given was chil...       WRK   \n",
       "1070546   HOSPITAL DID NONE, all that was given was chil...       WRK   \n",
       "...                                                     ...       ...   \n",
       "1135949                                                 NaN       OTH   \n",
       "1136535                                                 NaN       UNK   \n",
       "1136622                                                 NaN       PVT   \n",
       "1136908                                                none       WRK   \n",
       "1136908                                                none       WRK   \n",
       "\n",
       "         V_FUNDBY                                         OTHER_MEDS  \\\n",
       "VAERS_ID                                                               \n",
       "1067448       NaN                                                NaN   \n",
       "1070055       NaN                                                NaN   \n",
       "1070546       NaN                    Vitamin D3 gummies 200mcg PO QD   \n",
       "1070546       NaN                    Vitamin D3 gummies 200mcg PO QD   \n",
       "1070546       NaN                    Vitamin D3 gummies 200mcg PO QD   \n",
       "...           ...                                                ...   \n",
       "1135949       NaN                                               none   \n",
       "1136535       NaN  Ponatinib, Chlorthalidone, Amio, Toprol, Amlod...   \n",
       "1136622       NaN                                                NaN   \n",
       "1136908       NaN  Wixela inhaler AM & PM Nasacort 1/day Metoprol...   \n",
       "1136908       NaN  Wixela inhaler AM & PM Nasacort 1/day Metoprol...   \n",
       "\n",
       "                                                    CUR_ILL  \\\n",
       "VAERS_ID                                                      \n",
       "1067448                                                 NaN   \n",
       "1070055                                                 NaN   \n",
       "1070546                                                None   \n",
       "1070546                                                None   \n",
       "1070546                                                None   \n",
       "...                                                     ...   \n",
       "1135949                          breast cancer, heart issue   \n",
       "1136535                                                 CML   \n",
       "1136622                           ESRD on HD.  Recent Covid   \n",
       "1136908   Shingles with Postherpetic neuralgia Fibromyalgia   \n",
       "1136908   Shingles with Postherpetic neuralgia Fibromyalgia   \n",
       "\n",
       "                                                    HISTORY PRIOR_VAX  \\\n",
       "VAERS_ID                                                                \n",
       "1067448                                                 NaN       NaN   \n",
       "1070055                                                 NaN       NaN   \n",
       "1070546                                                None       NaN   \n",
       "1070546                                                None       NaN   \n",
       "1070546                                                None       NaN   \n",
       "...                                                     ...       ...   \n",
       "1135949                                                 NaN       NaN   \n",
       "1136535                                                 CML       NaN   \n",
       "1136622   H/O of HTN, DM2 on insulin, CAD, HF mrEF, brad...       NaN   \n",
       "1136908               Fibromyalgia Long-term covid symptoms       NaN   \n",
       "1136908               Fibromyalgia Long-term covid symptoms       NaN   \n",
       "\n",
       "         SPLTTYPE  FORM_VERS TODAYS_DATE  BIRTH_DEFECT OFC_VISIT ER_ED_VISIT  \\\n",
       "VAERS_ID                                                                       \n",
       "1067448       NaN          2  03/02/2021             0       NaN         NaN   \n",
       "1070055       NaN          2  03/03/2021             0       NaN         NaN   \n",
       "1070546       NaN          2  03/03/2021             0       NaN           Y   \n",
       "1070546       NaN          2  03/03/2021             0       NaN           Y   \n",
       "1070546       NaN          2  03/03/2021             0       NaN           Y   \n",
       "...           ...        ...         ...           ...       ...         ...   \n",
       "1135949       NaN          2  03/25/2021             0       NaN         NaN   \n",
       "1136535       NaN          2  03/26/2021             0       NaN         NaN   \n",
       "1136622       NaN          2  03/26/2021             0       NaN         NaN   \n",
       "1136908       NaN          2  03/26/2021             0         Y         NaN   \n",
       "1136908       NaN          2  03/26/2021             0         Y         NaN   \n",
       "\n",
       "                                                  ALLERGIES VAX_TYPE VAX_MANU  \\\n",
       "VAERS_ID                                                                        \n",
       "1067448                                                 NaN  COVID19  JANSSEN   \n",
       "1070055                                                 NaN  COVID19  JANSSEN   \n",
       "1070546                                                NKDA  COVID19  JANSSEN   \n",
       "1070546                                                NKDA  COVID19  JANSSEN   \n",
       "1070546                                                NKDA  COVID19  JANSSEN   \n",
       "...                                                     ...      ...      ...   \n",
       "1135949          kadcyla, ciprofloxacin, codeine, vancoycin  COVID19  JANSSEN   \n",
       "1136535   Atorvastatin, Benazopril, Contrast, Isosorbide...  COVID19  JANSSEN   \n",
       "1136622                                                NKDA  COVID19  JANSSEN   \n",
       "1136908                         ciprofloxacin walnuts dairy  COVID19  JANSSEN   \n",
       "1136908                         ciprofloxacin walnuts dairy  COVID19  JANSSEN   \n",
       "\n",
       "          VAX_LOT  VAX_DOSE_SERIES VAX_ROUTE VAX_SITE  \\\n",
       "VAERS_ID                                                \n",
       "1067448       NaN                1       NaN      NaN   \n",
       "1070055   1802068                1        IM       RA   \n",
       "1070546       NaN                1        IM       LA   \n",
       "1070546       NaN                1        IM       LA   \n",
       "1070546       NaN                1        IM       LA   \n",
       "...           ...              ...       ...      ...   \n",
       "1135949   1805020                1       SYR       LA   \n",
       "1136535       NaN                1       NaN      NaN   \n",
       "1136622   1808609                1        IM      NaN   \n",
       "1136908       NaN                1       SYR       RA   \n",
       "1136908       NaN                1       SYR       RA   \n",
       "\n",
       "                             VAX_NAME           SYMPTOM1  SYMPTOMVERSION1  \\\n",
       "VAERS_ID                                                                    \n",
       "1067448   COVID19 (COVID19 (JANSSEN))  Unevaluable event             23.1   \n",
       "1070055   COVID19 (COVID19 (JANSSEN))           Headache             24.0   \n",
       "1070546   COVID19 (COVID19 (JANSSEN))  Burning sensation             24.0   \n",
       "1070546   COVID19 (COVID19 (JANSSEN))      Hypoaesthesia             24.0   \n",
       "1070546   COVID19 (COVID19 (JANSSEN))  Muscular weakness             24.0   \n",
       "...                               ...                ...              ...   \n",
       "1135949   COVID19 (COVID19 (JANSSEN))           Wheezing             24.0   \n",
       "1136535   COVID19 (COVID19 (JANSSEN))           Asthenia             24.0   \n",
       "1136622   COVID19 (COVID19 (JANSSEN))     Cardiac arrest             24.0   \n",
       "1136908   COVID19 (COVID19 (JANSSEN))             Chills             24.0   \n",
       "1136908   COVID19 (COVID19 (JANSSEN))             Tremor             24.0   \n",
       "\n",
       "                                   SYMPTOM2  SYMPTOMVERSION2  \\\n",
       "VAERS_ID                                                       \n",
       "1067448                                 NaN              NaN   \n",
       "1070055                              Nausea             24.0   \n",
       "1070546                            Erythema             24.0   \n",
       "1070546   Immediate post-injection reaction             24.0   \n",
       "1070546                              Nausea             24.0   \n",
       "...                                     ...              ...   \n",
       "1135949                                 NaN              NaN   \n",
       "1136535                             Myalgia             24.0   \n",
       "1136622                                 NaN              NaN   \n",
       "1136908                    Gait disturbance             24.0   \n",
       "1136908                                 NaN              NaN   \n",
       "\n",
       "                     SYMPTOM3  SYMPTOMVERSION3                  SYMPTOM4  \\\n",
       "VAERS_ID                                                                   \n",
       "1067448                   NaN              NaN                       NaN   \n",
       "1070055              Vomiting             24.0                       NaN   \n",
       "1070546              Eye pain             24.0   Grip strength decreased   \n",
       "1070546   Injection site pain             24.0  Injection site streaking   \n",
       "1070546     Pain in extremity             24.0              Paraesthesia   \n",
       "...                       ...              ...                       ...   \n",
       "1135949                   NaN              NaN                       NaN   \n",
       "1136535               Pyrexia             24.0                       NaN   \n",
       "1136622                   NaN              NaN                       NaN   \n",
       "1136908              Headache             24.0                Monoplegia   \n",
       "1136908                   NaN              NaN                       NaN   \n",
       "\n",
       "          SYMPTOMVERSION4               SYMPTOM5  SYMPTOMVERSION5  \n",
       "VAERS_ID                                                           \n",
       "1067448               NaN                    NaN              NaN  \n",
       "1070055               NaN                    NaN              NaN  \n",
       "1070546              24.0          Hyperhidrosis             24.0  \n",
       "1070546              24.0  Loss of consciousness             24.0  \n",
       "1070546              24.0         Vision blurred             24.0  \n",
       "...                   ...                    ...              ...  \n",
       "1135949               NaN                    NaN              NaN  \n",
       "1136535               NaN                    NaN              NaN  \n",
       "1136622               NaN                    NaN              NaN  \n",
       "1136908              24.0                Pyrexia             24.0  \n",
       "1136908               NaN                    NaN              NaN  \n",
       "\n",
       "[3829 rows x 51 columns]"
      ]
     },
     "execution_count": 36,
     "metadata": {},
     "output_type": "execute_result"
    }
   ],
   "source": [
    "df_jaj"
   ]
  },
  {
   "cell_type": "code",
   "execution_count": 63,
   "metadata": {},
   "outputs": [
    {
     "data": {
      "text/plain": [
       "<AxesSubplot:xlabel='VAX_MANU', ylabel='HOSPDAYS'>"
      ]
     },
     "execution_count": 63,
     "metadata": {},
     "output_type": "execute_result"
    },
    {
     "data": {
      "image/png": "[encoded data removed]",
      "text/plain": [
       "<Figure size 504x360 with 1 Axes>"
      ]
     },
     "metadata": {},
     "output_type": "display_data"
    }
   ],
   "source": [
    "# length of stay in hospital for each vaccine\n",
    "f, ax = plt.subplots(figsize=(7, 5))\n",
    "sns.barplot(x='VAX_MANU', y='HOSPDAYS', data=df[~df.VAX_MANU.str.contains(\"UNKNOWN\")])\n"
   ]
  },
  {
   "cell_type": "code",
   "execution_count": 76,
   "metadata": {},
   "outputs": [
    {
     "ename": "ValueError",
     "evalue": "Length of list vectors must match length of `data` when both are used, but `data` has length 70387 and the vector passed to `hue` has length 2.",
     "output_type": "error",
     "traceback": [
      "\u001b[1;31m---------------------------------------------------------------------------\u001b[0m",
      "\u001b[1;31mValueError\u001b[0m                                Traceback (most recent call last)",
      "\u001b[1;32m<ipython-input-76-67cdaa1801f2>\u001b[0m in \u001b[0;36m<module>\u001b[1;34m\u001b[0m\n\u001b[0;32m      1\u001b[0m \u001b[1;31m# number of recovered cases out of all reports for each vaccine brand\u001b[0m\u001b[1;33m\u001b[0m\u001b[1;33m\u001b[0m\u001b[1;33m\u001b[0m\u001b[0m\n\u001b[0;32m      2\u001b[0m \u001b[0mf\u001b[0m\u001b[1;33m,\u001b[0m \u001b[0max\u001b[0m \u001b[1;33m=\u001b[0m \u001b[0mplt\u001b[0m\u001b[1;33m.\u001b[0m\u001b[0msubplots\u001b[0m\u001b[1;33m(\u001b[0m\u001b[0mfigsize\u001b[0m\u001b[1;33m=\u001b[0m\u001b[1;33m(\u001b[0m\u001b[1;36m7\u001b[0m\u001b[1;33m,\u001b[0m \u001b[1;36m5\u001b[0m\u001b[1;33m)\u001b[0m\u001b[1;33m)\u001b[0m\u001b[1;33m\u001b[0m\u001b[1;33m\u001b[0m\u001b[0m\n\u001b[1;32m----> 3\u001b[1;33m \u001b[0msns\u001b[0m\u001b[1;33m.\u001b[0m\u001b[0mhistplot\u001b[0m\u001b[1;33m(\u001b[0m\u001b[0mx\u001b[0m\u001b[1;33m=\u001b[0m\u001b[1;34m'VAX_MANU'\u001b[0m\u001b[1;33m,\u001b[0m \u001b[0mhue\u001b[0m\u001b[1;33m=\u001b[0m\u001b[1;33m[\u001b[0m\u001b[1;34m'RECOVD'\u001b[0m\u001b[1;33m,\u001b[0m\u001b[1;34m'DIED'\u001b[0m\u001b[1;33m]\u001b[0m\u001b[1;33m,\u001b[0m \u001b[0mdata\u001b[0m\u001b[1;33m=\u001b[0m\u001b[0mdf\u001b[0m\u001b[1;33m[\u001b[0m\u001b[1;33m~\u001b[0m\u001b[0mdf\u001b[0m\u001b[1;33m.\u001b[0m\u001b[0mVAX_MANU\u001b[0m\u001b[1;33m.\u001b[0m\u001b[0mstr\u001b[0m\u001b[1;33m.\u001b[0m\u001b[0mcontains\u001b[0m\u001b[1;33m(\u001b[0m\u001b[1;34m\"UNKNOWN\"\u001b[0m\u001b[1;33m)\u001b[0m\u001b[1;33m]\u001b[0m\u001b[1;33m,\u001b[0m \u001b[0mmultiple\u001b[0m\u001b[1;33m=\u001b[0m\u001b[1;34m\"stack\"\u001b[0m\u001b[1;33m)\u001b[0m\u001b[1;33m\u001b[0m\u001b[1;33m\u001b[0m\u001b[0m\n\u001b[0m",
      "\u001b[1;32m~\\anaconda3\\envs\\test-env\\lib\\site-packages\\seaborn\\distributions.py\u001b[0m in \u001b[0;36mhistplot\u001b[1;34m(data, x, y, hue, weights, stat, bins, binwidth, binrange, discrete, cumulative, common_bins, common_norm, multiple, element, fill, shrink, kde, kde_kws, line_kws, thresh, pthresh, pmax, cbar, cbar_ax, cbar_kws, palette, hue_order, hue_norm, color, log_scale, legend, ax, **kwargs)\u001b[0m\n\u001b[0;32m   1389\u001b[0m ):\n\u001b[0;32m   1390\u001b[0m \u001b[1;33m\u001b[0m\u001b[0m\n\u001b[1;32m-> 1391\u001b[1;33m     p = _DistributionPlotter(\n\u001b[0m\u001b[0;32m   1392\u001b[0m         \u001b[0mdata\u001b[0m\u001b[1;33m=\u001b[0m\u001b[0mdata\u001b[0m\u001b[1;33m,\u001b[0m\u001b[1;33m\u001b[0m\u001b[1;33m\u001b[0m\u001b[0m\n\u001b[0;32m   1393\u001b[0m         \u001b[0mvariables\u001b[0m\u001b[1;33m=\u001b[0m\u001b[0m_DistributionPlotter\u001b[0m\u001b[1;33m.\u001b[0m\u001b[0mget_semantics\u001b[0m\u001b[1;33m(\u001b[0m\u001b[0mlocals\u001b[0m\u001b[1;33m(\u001b[0m\u001b[1;33m)\u001b[0m\u001b[1;33m)\u001b[0m\u001b[1;33m\u001b[0m\u001b[1;33m\u001b[0m\u001b[0m\n",
      "\u001b[1;32m~\\anaconda3\\envs\\test-env\\lib\\site-packages\\seaborn\\distributions.py\u001b[0m in \u001b[0;36m__init__\u001b[1;34m(self, data, variables)\u001b[0m\n\u001b[0;32m    107\u001b[0m     ):\n\u001b[0;32m    108\u001b[0m \u001b[1;33m\u001b[0m\u001b[0m\n\u001b[1;32m--> 109\u001b[1;33m         \u001b[0msuper\u001b[0m\u001b[1;33m(\u001b[0m\u001b[1;33m)\u001b[0m\u001b[1;33m.\u001b[0m\u001b[0m__init__\u001b[0m\u001b[1;33m(\u001b[0m\u001b[0mdata\u001b[0m\u001b[1;33m=\u001b[0m\u001b[0mdata\u001b[0m\u001b[1;33m,\u001b[0m \u001b[0mvariables\u001b[0m\u001b[1;33m=\u001b[0m\u001b[0mvariables\u001b[0m\u001b[1;33m)\u001b[0m\u001b[1;33m\u001b[0m\u001b[1;33m\u001b[0m\u001b[0m\n\u001b[0m\u001b[0;32m    110\u001b[0m \u001b[1;33m\u001b[0m\u001b[0m\n\u001b[0;32m    111\u001b[0m     \u001b[1;33m@\u001b[0m\u001b[0mproperty\u001b[0m\u001b[1;33m\u001b[0m\u001b[1;33m\u001b[0m\u001b[0m\n",
      "\u001b[1;32m~\\anaconda3\\envs\\test-env\\lib\\site-packages\\seaborn\\_core.py\u001b[0m in \u001b[0;36m__init__\u001b[1;34m(self, data, variables)\u001b[0m\n\u001b[0;32m    602\u001b[0m     \u001b[1;32mdef\u001b[0m \u001b[0m__init__\u001b[0m\u001b[1;33m(\u001b[0m\u001b[0mself\u001b[0m\u001b[1;33m,\u001b[0m \u001b[0mdata\u001b[0m\u001b[1;33m=\u001b[0m\u001b[1;32mNone\u001b[0m\u001b[1;33m,\u001b[0m \u001b[0mvariables\u001b[0m\u001b[1;33m=\u001b[0m\u001b[1;33m{\u001b[0m\u001b[1;33m}\u001b[0m\u001b[1;33m)\u001b[0m\u001b[1;33m:\u001b[0m\u001b[1;33m\u001b[0m\u001b[1;33m\u001b[0m\u001b[0m\n\u001b[0;32m    603\u001b[0m \u001b[1;33m\u001b[0m\u001b[0m\n\u001b[1;32m--> 604\u001b[1;33m         \u001b[0mself\u001b[0m\u001b[1;33m.\u001b[0m\u001b[0massign_variables\u001b[0m\u001b[1;33m(\u001b[0m\u001b[0mdata\u001b[0m\u001b[1;33m,\u001b[0m \u001b[0mvariables\u001b[0m\u001b[1;33m)\u001b[0m\u001b[1;33m\u001b[0m\u001b[1;33m\u001b[0m\u001b[0m\n\u001b[0m\u001b[0;32m    605\u001b[0m \u001b[1;33m\u001b[0m\u001b[0m\n\u001b[0;32m    606\u001b[0m         \u001b[1;32mfor\u001b[0m \u001b[0mvar\u001b[0m\u001b[1;33m,\u001b[0m \u001b[0mcls\u001b[0m \u001b[1;32min\u001b[0m \u001b[0mself\u001b[0m\u001b[1;33m.\u001b[0m\u001b[0m_semantic_mappings\u001b[0m\u001b[1;33m.\u001b[0m\u001b[0mitems\u001b[0m\u001b[1;33m(\u001b[0m\u001b[1;33m)\u001b[0m\u001b[1;33m:\u001b[0m\u001b[1;33m\u001b[0m\u001b[1;33m\u001b[0m\u001b[0m\n",
      "\u001b[1;32m~\\anaconda3\\envs\\test-env\\lib\\site-packages\\seaborn\\_core.py\u001b[0m in \u001b[0;36massign_variables\u001b[1;34m(self, data, variables)\u001b[0m\n\u001b[0;32m    665\u001b[0m         \u001b[1;32melse\u001b[0m\u001b[1;33m:\u001b[0m\u001b[1;33m\u001b[0m\u001b[1;33m\u001b[0m\u001b[0m\n\u001b[0;32m    666\u001b[0m             \u001b[0mself\u001b[0m\u001b[1;33m.\u001b[0m\u001b[0minput_format\u001b[0m \u001b[1;33m=\u001b[0m \u001b[1;34m\"long\"\u001b[0m\u001b[1;33m\u001b[0m\u001b[1;33m\u001b[0m\u001b[0m\n\u001b[1;32m--> 667\u001b[1;33m             plot_data, variables = self._assign_variables_longform(\n\u001b[0m\u001b[0;32m    668\u001b[0m                 \u001b[0mdata\u001b[0m\u001b[1;33m,\u001b[0m \u001b[1;33m**\u001b[0m\u001b[0mvariables\u001b[0m\u001b[1;33m,\u001b[0m\u001b[1;33m\u001b[0m\u001b[1;33m\u001b[0m\u001b[0m\n\u001b[0;32m    669\u001b[0m             )\n",
      "\u001b[1;32m~\\anaconda3\\envs\\test-env\\lib\\site-packages\\seaborn\\_core.py\u001b[0m in \u001b[0;36m_assign_variables_longform\u001b[1;34m(self, data, **kwargs)\u001b[0m\n\u001b[0;32m    915\u001b[0m                             \u001b[1;34mf\" and the vector passed to `{key}` has length {len(val)}.\"\u001b[0m\u001b[1;33m\u001b[0m\u001b[1;33m\u001b[0m\u001b[0m\n\u001b[0;32m    916\u001b[0m                         )\n\u001b[1;32m--> 917\u001b[1;33m                         \u001b[1;32mraise\u001b[0m \u001b[0mValueError\u001b[0m\u001b[1;33m(\u001b[0m\u001b[0merr\u001b[0m\u001b[1;33m)\u001b[0m\u001b[1;33m\u001b[0m\u001b[1;33m\u001b[0m\u001b[0m\n\u001b[0m\u001b[0;32m    918\u001b[0m \u001b[1;33m\u001b[0m\u001b[0m\n\u001b[0;32m    919\u001b[0m                 \u001b[0mplot_data\u001b[0m\u001b[1;33m[\u001b[0m\u001b[0mkey\u001b[0m\u001b[1;33m]\u001b[0m \u001b[1;33m=\u001b[0m \u001b[0mval\u001b[0m\u001b[1;33m\u001b[0m\u001b[1;33m\u001b[0m\u001b[0m\n",
      "\u001b[1;31mValueError\u001b[0m: Length of list vectors must match length of `data` when both are used, but `data` has length 70387 and the vector passed to `hue` has length 2."
     ]
    },
    {
     "data": {
      "image/png": "[encoded data removed]",
      "text/plain": [
       "<Figure size 504x360 with 1 Axes>"
      ]
     },
     "metadata": {},
     "output_type": "display_data"
    }
   ],
   "source": [
    "# number of recovered cases out of all reports for each vaccine brand\n",
    "f, ax = plt.subplots(figsize=(7, 5))\n",
    "sns.histplot(x='VAX_MANU', hue='RECOVD', data=df[~df.VAX_MANU.str.contains(\"UNKNOWN\")], multiple=\"stack\")"
   ]
  },
  {
   "cell_type": "code",
   "execution_count": 73,
   "metadata": {},
   "outputs": [
    {
     "data": {
      "text/plain": [
       "<AxesSubplot:xlabel='VAX_MANU', ylabel='Count'>"
      ]
     },
     "execution_count": 73,
     "metadata": {},
     "output_type": "execute_result"
    },
    {
     "data": {
      "image/png": "[encoded data removed]",
      "text/plain": [
       "<Figure size 504x360 with 1 Axes>"
      ]
     },
     "metadata": {},
     "output_type": "display_data"
    }
   ],
   "source": [
    "f, ax = plt.subplots(figsize=(7, 5))\n",
    "sns.histplot(x='VAX_MANU', hue='DIED', data=df[~df.VAX_MANU.str.contains(\"UNKNOWN\")], multiple=\"stack\")"
   ]
  },
  {
   "cell_type": "markdown",
   "metadata": {},
   "source": [
    "## Data Processing\n",
    "### State"
   ]
  },
  {
   "cell_type": "code",
   "execution_count": null,
   "metadata": {
    "scrolled": true
   },
   "outputs": [],
   "source": [
    "# lets clean up the state column by filling NaN values and binning the unusual locations as Other as there are only a few of each\n",
    "df['STATE'].replace(['AS', 'VI', 'MP', 'Ca', 'XB', 'FM', 'MH', 'GU'], 'OTH', inplace=True)\n",
    "df['STATE'] = df['STATE'].fillna('NA')\n",
    "\n",
    "label_encoder = LabelEncoder()\n",
    "label_encoder = label_encoder.fit(df['STATE'])\n",
    "df['STATE'] = label_encoder.transform(df['STATE'])"
   ]
  },
  {
   "cell_type": "markdown",
   "metadata": {},
   "source": [
    "### Vaccine Manufacturer"
   ]
  },
  {
   "cell_type": "code",
   "execution_count": null,
   "metadata": {},
   "outputs": [],
   "source": [
    "# since there are no NaNs or unwanted values we can just fit and transform\n",
    "df['VAX_MANU'].value_counts()\n",
    "\n",
    "label_encoder = LabelEncoder()\n",
    "label_encoder = label_encoder.fit(df['VAX_MANU'])\n",
    "df['VAX_MANU'] = label_encoder.transform(df['VAX_MANU'])"
   ]
  },
  {
   "cell_type": "markdown",
   "metadata": {},
   "source": [
    "### Injection Site"
   ]
  },
  {
   "cell_type": "code",
   "execution_count": null,
   "metadata": {},
   "outputs": [],
   "source": [
    "# where the dose was applied, right arm, left arm, leg, ect.\n",
    "df['VAX_SITE'] = df['VAX_SITE'].fillna('NA')\n",
    "\n",
    "label_encoder = LabelEncoder()\n",
    "label_encoder = label_encoder.fit(df['VAX_SITE'])\n",
    "df['VAX_SITE'] = label_encoder.transform(df['VAX_SITE'])"
   ]
  },
  {
   "cell_type": "markdown",
   "metadata": {},
   "source": [
    "### Delivery Method"
   ]
  },
  {
   "cell_type": "code",
   "execution_count": null,
   "metadata": {},
   "outputs": [],
   "source": [
    "# states the method of delivering the vaccine, such as srynge, nasal, intradermal, intramuscular, and others\n",
    "df['VAX_ROUTE'] = df['VAX_ROUTE'].fillna('UN')\n",
    "\n",
    "label_encoder = LabelEncoder()\n",
    "label_encoder = label_encoder.fit(df['VAX_ROUTE'])\n",
    "df['VAX_ROUTE'] = label_encoder.transform(df['VAX_ROUTE'])"
   ]
  },
  {
   "cell_type": "markdown",
   "metadata": {},
   "source": [
    "### Administration Facility"
   ]
  },
  {
   "cell_type": "code",
   "execution_count": null,
   "metadata": {},
   "outputs": [],
   "source": [
    "# examples of locations would be school, military, senior home ect.\n",
    "label_encoder = LabelEncoder()\n",
    "label_encoder = label_encoder.fit(df['V_ADMINBY'])\n",
    "df['V_ADMINBY'] = label_encoder.transform(df['V_ADMINBY'])"
   ]
  },
  {
   "cell_type": "markdown",
   "metadata": {},
   "source": [
    "### Allergies"
   ]
  },
  {
   "cell_type": "code",
   "execution_count": null,
   "metadata": {},
   "outputs": [],
   "source": [
    "# the following columns cleaned cannot using LabelEncoder as many rows have multiple values to represent."
   ]
  },
  {
   "cell_type": "code",
   "execution_count": null,
   "metadata": {},
   "outputs": [],
   "source": [
    "# preparing the columns with text data is a little tricky as there is no standard format, many misspellings, and multiple values presented for many people\n",
    "# Lets begin by lowercasing the Allergies column\n",
    "df['ALLERGIES'] = df['ALLERGIES'].str.lower()"
   ]
  },
  {
   "cell_type": "code",
   "execution_count": null,
   "metadata": {},
   "outputs": [],
   "source": [
    "# Now we replace all these different ways of saying none with none, as well as NaNs\n",
    "nonelist = ['no', 'no known allergies', 'unknown', 'none known', 'n/a', 'none reported', 'na', 'none.',\n",
    "            'no known drug allergies', 'no allergies', 'na', 'no known', 'no known allergies.', 'none listed', \n",
    "           'unk', 'none known.']\n",
    "\n",
    "df['ALLERGIES'] = df['ALLERGIES'].fillna('none')\n",
    "df['ALLERGIES'] = df['ALLERGIES'].replace('penicillin|sulfa', 'penicillin')\n",
    "df['ALLERGIES'] = df['ALLERGIES'].replace(nonelist, 'none')"
   ]
  },
  {
   "cell_type": "code",
   "execution_count": null,
   "metadata": {},
   "outputs": [],
   "source": [
    "# these functions will find each list-like text and turn it into a format acceptable for get_dummies\n",
    "# We are using this method instead of onehotencoder or labelbinarizer so a row can have multiple allergies represented\n",
    "# by only using the allergies that at least thirty people have in the data, we can keep the dimensionality and required cleaning down\n",
    "# it is likely that an algorith would not be able to learn from allergies that have a very small representation\n",
    "allall = []\n",
    "for each in df['ALLERGIES']:\n",
    "    if ',' in each:\n",
    "        alls = each.split(',')\n",
    "        ally = []\n",
    "        for weach in alls:\n",
    "            ally.append(weach.strip())\n",
    "        allall.append(ally)\n",
    "    else:\n",
    "        allall.append(each)\n",
    "        \n",
    "allall2 = []\n",
    "for each in allall:\n",
    "    if type(each) == list:\n",
    "        welt = \"|\".join(each)\n",
    "        allall2.append(welt)\n",
    "    else:\n",
    "        allall2.append(each)\n",
    "        \n",
    "listy = list(pd.Series(allall2).value_counts()[pd.Series(allall2).value_counts()>30].index)\n",
    "allall3 = list(map(lambda x: 'none' if x not in listy else x, allall2))\n",
    "\n",
    "dummyframe = pd.Series(allall3).str.get_dummies()\n",
    "\n",
    "listy.remove('penicillin|sulfa')"
   ]
  },
  {
   "cell_type": "code",
   "execution_count": null,
   "metadata": {},
   "outputs": [],
   "source": [
    "df.reset_index(inplace=True)"
   ]
  },
  {
   "cell_type": "code",
   "execution_count": null,
   "metadata": {},
   "outputs": [],
   "source": [
    "# Lets attach our new columns to the dataframe\n",
    "df = df.join(dummyframe[listy])"
   ]
  },
  {
   "cell_type": "markdown",
   "metadata": {},
   "source": [
    "### Current Illnesses"
   ]
  },
  {
   "cell_type": "code",
   "execution_count": null,
   "metadata": {},
   "outputs": [],
   "source": [
    "df['CUR_ILL'] = df['CUR_ILL'].str.lower()\n",
    "\n",
    "nonelist = ['no', 'unknown', 'none.', 'none reported', 'n/a', 'na', 'none known', 'denies', 'none noted', '0', 'no illness',\n",
    "           'none listed', 'not known', 'no known', 'non', 'no acute illnesses', 'no.', 'denied', 'see below', 'no illnesses',\n",
    "            'unk', 'unkown', 'none documented', 'none stated', 'nothing', 'none known.', 'unknown.', 'no known illnesses',\n",
    "            'n/a.','no e', 'none reported.', 'no acute illness']\n",
    "\n",
    "df['CUR_ILL'] = df['CUR_ILL'].fillna('none')\n",
    "df['CUR_ILL'] = df['CUR_ILL'].replace(nonelist, 'none')\n",
    "df['CUR_ILL'] = df['CUR_ILL'].replace(['covid 19', 'covid', 'covid- 19 diagnosis 12/11/2020 asymptomatic', 'covid-19 (diagnosed 10/26/20)', 'covid-19  (diagnosed 10/26/20)'], 'covid-19')"
   ]
  },
  {
   "cell_type": "code",
   "execution_count": null,
   "metadata": {},
   "outputs": [],
   "source": [
    "allall = []\n",
    "for each in df['CUR_ILL']:\n",
    "    if ',' in each:\n",
    "        alls = each.split(',')\n",
    "        ally = []\n",
    "        for weach in alls:\n",
    "            ally.append(weach.strip())\n",
    "        allall.append(ally)\n",
    "    else:\n",
    "        allall.append(each)\n",
    "        \n",
    "allall2 = []\n",
    "for each in allall:\n",
    "    if type(each) == list:\n",
    "        welt = \"|\".join(each)\n",
    "        allall2.append(welt)\n",
    "    else:\n",
    "        allall2.append(each)\n",
    "        \n",
    "listy = list(pd.Series(allall2).value_counts()[pd.Series(allall2).value_counts()>13].index)\n",
    "allall3 = list(map(lambda x: 'none' if x not in listy else x, allall2))\n",
    "    \n",
    "datufrayme = pd.Series(allall3).str.get_dummies()\n",
    "\n",
    "listy.remove('alcohol use disorder|facial laceration|alcohol intoxication|secondary syphillis')\n",
    "listy.remove('elevated troponin i level elevated troponin i level        elevated brain natriuretic peptide (bnp) level elevated brain natriuretic peptide (bnp) level        dyspnea       chest pain        atrial fibrillation with rapid ventricular response (hcc) atrial fibrillation with rapid ventricular response|initial encounter       hyponatremia hyponatremia')\n",
    "    \n",
    "df = df.join(datufrayme[listy], lsuffix=\" cur_ill\")"
   ]
  },
  {
   "cell_type": "markdown",
   "metadata": {},
   "source": [
    "### Patient history"
   ]
  },
  {
   "cell_type": "code",
   "execution_count": null,
   "metadata": {},
   "outputs": [],
   "source": [
    "df['HISTORY'] = df['HISTORY'].str.lower()"
   ]
  },
  {
   "cell_type": "code",
   "execution_count": null,
   "metadata": {},
   "outputs": [],
   "source": [
    "# Quite a few entries for history need to be rectified, doubles were found using .value_counts() as we use the most common\n",
    "nonelist = ['no', 'unknown', 'none.', 'none reported', 'n/a', 'na', 'none known', 'denies', 'none noted', '0', 'no illness',\n",
    "           'none listed', 'not known', 'no known', 'non', 'no acute illnesses', 'no.', 'denied', 'see below', 'no illnesses',\n",
    "            'unk', 'unkown', 'none documented', 'none stated', 'nothing', 'none known.', 'unknown.', 'as above', 'no known illnesses',\n",
    "            'n/a.','no e', 'none reported.', 'medical history/concurrent conditions: no adverse event (no reported medical history)',\n",
    "           'medical history/concurrent conditions: no adverse event (no reported medical history.)', 'see above', 'medical history/concurrent conditions: no adverse event',\n",
    "           'medical history/concurrent conditions: no adverse event (no medical history reported.)', 'medical history/concurrent conditions: no adverse event (no medical history reported)',\n",
    "           'medical history/concurrent conditions: no adverse event (medical history not provided)', 'comments: list of non-encoded patient relevant history: patient other relevant history 1: none',\n",
    "           ]\n",
    "\n",
    "df['HISTORY'] = df['HISTORY'].fillna('none')\n",
    "df['HISTORY'] = df['HISTORY'].replace(nonelist, 'none')\n",
    "df['HISTORY'] = df['HISTORY'].replace('medical history/concurrent conditions: covid-19', 'covid-19')\n",
    "df['HISTORY'] = df['HISTORY'].replace('medical history/concurrent conditions: hypertension', 'hypertension')\n",
    "df['HISTORY'] = df['HISTORY'].replace('medical history/concurrent conditions: penicillin allergy', 'penicillin allergy')\n",
    "df['HISTORY'] = df['HISTORY'].replace(['medical history/concurrent conditions: asthma','mild asthma','exercise induced asthma'], 'asthma')\n",
    "df['HISTORY'] = df['HISTORY'].replace('medical history/concurrent conditions: blood pressure high', 'high blood pressure')\n",
    "df['HISTORY'] = df['HISTORY'].replace('medical history/concurrent conditions: sulfonamide allergy', 'sulfonamide allergy')\n",
    "df['HISTORY'] = df['HISTORY'].replace(['diabetic', 'type 2 diabetes', 'type 1 diabetes'], 'diabetes')\n",
    "df['HISTORY'] = df['HISTORY'].replace('medical history/concurrent conditions: migraine', 'migraines')"
   ]
  },
  {
   "cell_type": "code",
   "execution_count": null,
   "metadata": {},
   "outputs": [],
   "source": [
    "allall = []\n",
    "for each in df['HISTORY']:\n",
    "    if ',' in each:\n",
    "        alls = each.split(',')\n",
    "        ally = []\n",
    "        for weach in alls:\n",
    "            ally.append(weach.strip())\n",
    "        allall.append(ally)\n",
    "    else:\n",
    "        allall.append(each)\n",
    "            \n",
    "allall2 = []\n",
    "for each in allall:\n",
    "    if type(each) == list:\n",
    "        welt = \"|\".join(each)\n",
    "        allall2.append(welt)\n",
    "    else:\n",
    "        allall2.append(each)\n",
    "            \n",
    "listy = list(pd.Series(allall2).value_counts()[pd.Series(allall2).value_counts()>40].index)\n",
    "allall3 = list(map(lambda x: 'none' if x not in listy else x, allall2))\n",
    "    \n",
    "datufrayme = pd.Series(allall3).str.get_dummies()\n",
    "\n",
    "listy.remove('cerebral palsy|anxiety|crohns|bipolar|gerd|nutrition deficiency|iron deficiency')\n",
    "    \n",
    "df = df.join(datufrayme[listy], lsuffix=\" history\")"
   ]
  },
  {
   "cell_type": "markdown",
   "metadata": {},
   "source": [
    "### Medication"
   ]
  },
  {
   "cell_type": "code",
   "execution_count": null,
   "metadata": {},
   "outputs": [],
   "source": [
    "df['OTHER_MEDS'] = df['OTHER_MEDS'].str.lower()"
   ]
  },
  {
   "cell_type": "code",
   "execution_count": null,
   "metadata": {},
   "outputs": [],
   "source": [
    "nonelist = ['unknown', 'no', 'none.', 'n/a', 'none reported', 'unk', 'none known', ';', 'not known', 'na', 'denies', ';  ;', \n",
    "           'nothing']\n",
    "\n",
    "df['OTHER_MEDS'] = df['OTHER_MEDS'].fillna('none')\n",
    "df['OTHER_MEDS'] = df['OTHER_MEDS'].replace(nonelist, 'none')"
   ]
  },
  {
   "cell_type": "code",
   "execution_count": null,
   "metadata": {},
   "outputs": [],
   "source": [
    "allall = []\n",
    "for each in df['OTHER_MEDS']:\n",
    "    if ',' in each:\n",
    "        alls = each.split(',')\n",
    "        ally = []\n",
    "        for weach in alls:\n",
    "            ally.append(weach.strip())\n",
    "        allall.append(ally)\n",
    "    else:\n",
    "        allall.append(each)\n",
    "            \n",
    "allall2 = []\n",
    "for each in allall:\n",
    "    if type(each) == list:\n",
    "        welt = \"|\".join(each)\n",
    "        allall2.append(welt)\n",
    "    else:\n",
    "        allall2.append(each)\n",
    "            \n",
    "listy = list(pd.Series(allall2).value_counts()[pd.Series(allall2).value_counts()>20].index)\n",
    "allall3 = list(map(lambda x: 'none' if x not in listy else x, allall2))\n",
    "    \n",
    "datufrayme = pd.Series(allall3).str.get_dummies()\n",
    "    \n",
    "df = df.join(datufrayme[listy], lsuffix=\" meds\")"
   ]
  },
  {
   "cell_type": "markdown",
   "metadata": {},
   "source": [
    "### Further Cleaning"
   ]
  },
  {
   "cell_type": "code",
   "execution_count": null,
   "metadata": {},
   "outputs": [],
   "source": [
    "# drop all the columns with data that has been dummied, data that gives away the target such as days in hopital, \n",
    "#     columns of post-diagnosis information, and irrelavant colums such as Form Version\n",
    "df.drop(columns = ['RECVDATE', 'CAGE_MO', 'CAGE_YR', 'RPT_DATE', 'SYMPTOM_TEXT', 'DIED',\n",
    "                  'DATEDIED', 'L_THREAT', 'ER_VISIT', 'HOSPDAYS', 'X_STAY', 'RECOVD', 'VAX_DATE', 'ONSET_DATE',\n",
    "                  'NUMDAYS', 'LAB_DATA', 'V_FUNDBY', 'OTHER_MEDS', 'CUR_ILL', 'HISTORY', 'PRIOR_VAX', 'SPLTTYPE', \n",
    "                  'FORM_VERS', 'TODAYS_DATE', 'OFC_VISIT', 'ER_ED_VISIT', 'ALLERGIES', 'VAX_TYPE', 'VAX_LOT', \n",
    "                  'SYMPTOM1', 'SYMPTOM2','SYMPTOM3', 'SYMPTOM4', 'SYMPTOM5','SYMPTOMVERSION1', 'SYMPTOMVERSION2',\n",
    "                   'SYMPTOMVERSION3','SYMPTOMVERSION4', 'SYMPTOMVERSION5', 'VAX_NAME', 'VAERS_ID'],\n",
    "       axis = 1, inplace=True)"
   ]
  },
  {
   "cell_type": "code",
   "execution_count": null,
   "metadata": {},
   "outputs": [],
   "source": [
    "df = df.astype(int)"
   ]
  },
  {
   "cell_type": "code",
   "execution_count": null,
   "metadata": {},
   "outputs": [],
   "source": [
    "# categoricals = ['STATE', 'V_ADMINBY', 'VAX_MANU', 'VAX_ROUTE', 'VAX_SITE']\n",
    "# df[categoricals] = df[categoricals].astype('category')"
   ]
  },
  {
   "cell_type": "code",
   "execution_count": null,
   "metadata": {},
   "outputs": [],
   "source": [
    "# df = df.drop_duplicates()"
   ]
  },
  {
   "cell_type": "code",
   "execution_count": null,
   "metadata": {},
   "outputs": [],
   "source": []
  },
  {
   "cell_type": "code",
   "execution_count": null,
   "metadata": {},
   "outputs": [],
   "source": []
  },
  {
   "cell_type": "markdown",
   "metadata": {},
   "source": [
    "# EDA"
   ]
  },
  {
   "cell_type": "markdown",
   "metadata": {},
   "source": [
    "# Modelling"
   ]
  },
  {
   "cell_type": "code",
   "execution_count": null,
   "metadata": {},
   "outputs": [],
   "source": [
    "# these columns do not need to be dummied, passing enable_categorical=True into the DMatrixs will allow it to process, but only\n",
    "#     if gpu is enabled and numerous other requirements are met.\n",
    "df = pd.concat([df,pd.get_dummies(df['STATE'], prefix='STATE: ')],axis=1).drop(['STATE'],axis=1)\n",
    "df = pd.concat([df,pd.get_dummies(df['VAX_MANU'], prefix='BRAND: ')],axis=1).drop(['VAX_MANU'],axis=1)\n",
    "df = pd.concat([df,pd.get_dummies(df['VAX_SITE'], prefix='VAX_SITE: ')],axis=1).drop(['VAX_SITE'],axis=1)\n",
    "df = pd.concat([df,pd.get_dummies(df['VAX_ROUTE'], prefix='VAX_ROUTE: ')],axis=1).drop(['VAX_ROUTE'],axis=1)\n",
    "df = pd.concat([df,pd.get_dummies(df['V_ADMINBY'], prefix='ADMINBY: ')],axis=1).drop(['V_ADMINBY'],axis=1)"
   ]
  },
  {
   "cell_type": "code",
   "execution_count": null,
   "metadata": {},
   "outputs": [],
   "source": [
    "# lets use hospitalization as our target, if it performs well enough we can try the continious target hosp_days\n",
    "x = df.drop(columns = ['HOSPITAL'])\n",
    "y = df['HOSPITAL']\n",
    "xtrain, xtest, ytrain, ytest = train_test_split(x, y, test_size = .2)\n",
    "xtrain, xval, ytrain, yval = train_test_split(xtrain, ytrain, test_size = .2)"
   ]
  },
  {
   "cell_type": "markdown",
   "metadata": {},
   "source": [
    "### SMOTE"
   ]
  },
  {
   "cell_type": "code",
   "execution_count": null,
   "metadata": {},
   "outputs": [],
   "source": [
    "# Continuing with Smote greatly increases our metrics on the train data, but returns the worst results we have seen on the val\n",
    "from imblearn.over_sampling import SMOTE\n",
    "sm = SMOTE()\n",
    "X_train_oversampled, ytrain = sm.fit_sample(xtrain, ytrain)\n",
    "xtrain = pd.DataFrame(X_train_oversampled, columns=xtrain.columns)"
   ]
  },
  {
   "cell_type": "code",
   "execution_count": null,
   "metadata": {},
   "outputs": [],
   "source": [
    "# adasyn is an alternative to smote, aulthough they are very similar it is still worth attempting\n",
    "# from imblearn.over_sampling import ADASYN\n",
    "# ada = ADASYN()\n",
    "# X_train_oversampled, ytrain = ada.fit_sample(xtrain, ytrain)\n",
    "# xtrain = pd.DataFrame(X_train_oversampled, columns=xtrain.columns)"
   ]
  },
  {
   "cell_type": "code",
   "execution_count": null,
   "metadata": {},
   "outputs": [],
   "source": [
    "from sklearn.linear_model import LogisticRegression "
   ]
  },
  {
   "cell_type": "code",
   "execution_count": null,
   "metadata": {},
   "outputs": [],
   "source": [
    "lr = LogisticRegression()\n",
    "lr.fit(xtrain, ytrain)"
   ]
  },
  {
   "cell_type": "code",
   "execution_count": null,
   "metadata": {},
   "outputs": [],
   "source": [
    "lr.score(xtrain, ytrain)"
   ]
  },
  {
   "cell_type": "code",
   "execution_count": null,
   "metadata": {},
   "outputs": [],
   "source": [
    "preds = lr.predict(xtrain)"
   ]
  },
  {
   "cell_type": "code",
   "execution_count": null,
   "metadata": {},
   "outputs": [],
   "source": [
    "recall_score(ytrain, preds)"
   ]
  },
  {
   "cell_type": "code",
   "execution_count": null,
   "metadata": {},
   "outputs": [],
   "source": [
    "yhat_val = lr.predict(xval)\n",
    "recall_score(yval, yhat_val)"
   ]
  },
  {
   "cell_type": "code",
   "execution_count": null,
   "metadata": {},
   "outputs": [],
   "source": [
    "plot_confusion_matrix(lr, xval, yval)"
   ]
  },
  {
   "cell_type": "code",
   "execution_count": null,
   "metadata": {},
   "outputs": [],
   "source": [
    "lr_las = LogisticRegression(penalty='l1', C=.001, solver='liblinear')\n",
    "lr_las.fit(xtrain, ytrain)"
   ]
  },
  {
   "cell_type": "code",
   "execution_count": null,
   "metadata": {},
   "outputs": [],
   "source": []
  },
  {
   "cell_type": "code",
   "execution_count": null,
   "metadata": {},
   "outputs": [],
   "source": []
  },
  {
   "cell_type": "code",
   "execution_count": null,
   "metadata": {},
   "outputs": [],
   "source": []
  },
  {
   "cell_type": "code",
   "execution_count": null,
   "metadata": {},
   "outputs": [],
   "source": []
  },
  {
   "cell_type": "code",
   "execution_count": null,
   "metadata": {},
   "outputs": [],
   "source": [
    "from xgboost import XGBClassifier"
   ]
  },
  {
   "cell_type": "code",
   "execution_count": null,
   "metadata": {},
   "outputs": [],
   "source": [
    "xgb = XGBClassifier(n_estimators = 300, max_depth=5)\n",
    "xgb.fit(xtrain, ytrain)\n",
    "yhat_train = xgb.predict(xtrain)\n",
    "recall_score(ytrain, yhat_train)"
   ]
  },
  {
   "cell_type": "code",
   "execution_count": null,
   "metadata": {},
   "outputs": [],
   "source": [
    "yhat_val = xgb.predict(xval)\n",
    "recall_score(yval, yhat_val)"
   ]
  },
  {
   "cell_type": "code",
   "execution_count": null,
   "metadata": {},
   "outputs": [],
   "source": []
  },
  {
   "cell_type": "code",
   "execution_count": null,
   "metadata": {},
   "outputs": [],
   "source": []
  },
  {
   "cell_type": "code",
   "execution_count": null,
   "metadata": {},
   "outputs": [],
   "source": []
  },
  {
   "cell_type": "code",
   "execution_count": null,
   "metadata": {},
   "outputs": [],
   "source": []
  },
  {
   "cell_type": "code",
   "execution_count": null,
   "metadata": {},
   "outputs": [],
   "source": [
    "# lets try using the simpler RandomOverSampler instead\n",
    "# from imblearn.over_sampling import RandomOverSampler\n",
    "# ros = RandomOverSampler()\n",
    "# X_train_oversampled, ytrain = ros.fit_sample(xtrain, ytrain)\n",
    "# xtrain = pd.DataFrame(X_train_oversampled, columns=xtrain.columns)"
   ]
  },
  {
   "cell_type": "code",
   "execution_count": null,
   "metadata": {},
   "outputs": [],
   "source": [
    "# hm, none of our oversampling technique improves our mode, maybe undersampling the larger of the classes?\n",
    "# from imblearn.under_sampling import RandomUnderSampler\n",
    "# rus = RandomUnderSampler()\n",
    "# X_train_oversampled, ytrain = rus.fit_sample(xtrain, ytrain)\n",
    "# xtrain = pd.DataFrame(X_train_oversampled, columns=xtrain.columns)"
   ]
  },
  {
   "cell_type": "code",
   "execution_count": null,
   "metadata": {},
   "outputs": [],
   "source": [
    "# Unfortunatley it seems that sampling our train data makes our model perform very poorly on the validation set"
   ]
  },
  {
   "cell_type": "markdown",
   "metadata": {},
   "source": [
    "### Lazy Predict"
   ]
  },
  {
   "cell_type": "code",
   "execution_count": null,
   "metadata": {},
   "outputs": [],
   "source": [
    "# Lazy Predict is a great tool to easily test your dataset across over thirty models\n",
    "# this gives us a head start in our modelling as we can begin from the best result below\n",
    "clf = LazyClassifier(verbose=0,ignore_warnings=True, custom_metric=None)\n",
    "models, predictions = clf.fit(xtrain, xval, ytrain, yval)\n",
    "\n",
    "print(models)"
   ]
  },
  {
   "cell_type": "markdown",
   "metadata": {},
   "source": [
    "### SKLearn Random Forest"
   ]
  },
  {
   "cell_type": "code",
   "execution_count": null,
   "metadata": {},
   "outputs": [],
   "source": [
    "# since Random Forests generated the best results, we should try and improve upon it\n",
    "rfc = RandomForestClassifier('n_estimators': 100,\n",
    "               'max_features': max_features,\n",
    "               'max_depth': max_depth,\n",
    "               'min_samples_split': min_samples_split,\n",
    "               'min_samples_leaf': min_samples_leaf,\n",
    "               'bootstrap': bootstrap)\n",
    "rfc.fit(xtrain, ytrain)"
   ]
  },
  {
   "cell_type": "code",
   "execution_count": null,
   "metadata": {},
   "outputs": [],
   "source": [
    "ypred = rfc.predict(xtrain)\n",
    "plot_confusion_matrix(estimator=rfc, y_true=ytrain, X = xtrain)"
   ]
  },
  {
   "cell_type": "code",
   "execution_count": null,
   "metadata": {},
   "outputs": [],
   "source": [
    "ypred = rfc.predict(xval)\n",
    "plot_confusion_matrix(estimator=rfc, y_true=yval, X = xval)"
   ]
  },
  {
   "cell_type": "code",
   "execution_count": null,
   "metadata": {
    "scrolled": true
   },
   "outputs": [],
   "source": [
    "recall_score(yval, ypred)"
   ]
  },
  {
   "cell_type": "code",
   "execution_count": null,
   "metadata": {},
   "outputs": [],
   "source": [
    "from sklearn.model_selection import RandomizedSearchCV"
   ]
  },
  {
   "cell_type": "code",
   "execution_count": null,
   "metadata": {},
   "outputs": [],
   "source": [
    "rfc = RandomForestClassifier()"
   ]
  },
  {
   "cell_type": "code",
   "execution_count": null,
   "metadata": {},
   "outputs": [],
   "source": [
    "n_estimators = [int(x) for x in np.linspace(start = 200, stop = 2000, num = 10)]\n",
    "max_features = ['auto', 'sqrt']\n",
    "max_depth = [int(x) for x in np.linspace(10, 110, num = 11)]\n",
    "max_depth.append(None)\n",
    "min_samples_split = [2, 5, 10]\n",
    "min_samples_leaf = [1, 2, 4]\n",
    "bootstrap = [True, False]"
   ]
  },
  {
   "cell_type": "code",
   "execution_count": null,
   "metadata": {},
   "outputs": [],
   "source": [
    "random_grid = {'n_estimators': n_estimators,\n",
    "               'max_features': max_features,\n",
    "               'max_depth': max_depth,\n",
    "               'min_samples_split': min_samples_split,\n",
    "               'min_samples_leaf': min_samples_leaf,\n",
    "               'bootstrap': bootstrap}"
   ]
  },
  {
   "cell_type": "code",
   "execution_count": null,
   "metadata": {},
   "outputs": [],
   "source": [
    "from pprint import pprint"
   ]
  },
  {
   "cell_type": "code",
   "execution_count": null,
   "metadata": {},
   "outputs": [],
   "source": [
    "pprint(random_grid)"
   ]
  },
  {
   "cell_type": "code",
   "execution_count": null,
   "metadata": {},
   "outputs": [],
   "source": [
    "rf = RandomForestClassifier()\n",
    "rf_random = RandomizedSearchCV(estimator = rf, param_distributions = random_grid, n_iter = 8, cv = 3, verbose=3, n_jobs = -1)\n",
    "rf_random.fit(xtrain, ytrain)"
   ]
  },
  {
   "cell_type": "code",
   "execution_count": null,
   "metadata": {},
   "outputs": [],
   "source": [
    "rf_random.best_params_"
   ]
  },
  {
   "cell_type": "code",
   "execution_count": null,
   "metadata": {},
   "outputs": [],
   "source": [
    "def evaluate(model, test_features, test_labels):\n",
    "#     predictions = model.predict(test_features)\n",
    "    return plot_confusion_matrix(model,test_features,test_labels, values_format = 'd')\n",
    "    \n",
    "#     errors = abs(predictions - test_labels)\n",
    "#     mape = 100 * np.mean(errors / test_labels)\n",
    "#     accuracy = 100 - mape\n",
    "#     print('Model Performance')\n",
    "#     print('Average Error: {:0.4f} degrees.'.format(np.mean(errors)))\n",
    "#     print('Accuracy = {:0.2f}%.'.format(accuracy))\n",
    "    \n",
    "#     return accuracy"
   ]
  },
  {
   "cell_type": "code",
   "execution_count": null,
   "metadata": {},
   "outputs": [],
   "source": [
    "base_model = RandomForestClassifier(n_estimators = 10, random_state = 42)\n",
    "base_model.fit(xtrain, ytrain)\n",
    "base_accuracy = evaluate(base_model, xval, yval)"
   ]
  },
  {
   "cell_type": "code",
   "execution_count": null,
   "metadata": {},
   "outputs": [],
   "source": [
    "best_random = rf_random.best_estimator_\n",
    "random_accuracy = evaluate(best_random, xval, yval)"
   ]
  },
  {
   "cell_type": "code",
   "execution_count": null,
   "metadata": {},
   "outputs": [],
   "source": [
    "plot_confusion_matrix([[8707,  365],[ 937, 1264]])"
   ]
  },
  {
   "cell_type": "markdown",
   "metadata": {},
   "source": [
    "## TREES BAYES"
   ]
  },
  {
   "cell_type": "code",
   "execution_count": null,
   "metadata": {},
   "outputs": [],
   "source": [
    "import sklearn\n",
    "sklearn.__version__"
   ]
  },
  {
   "cell_type": "code",
   "execution_count": null,
   "metadata": {},
   "outputs": [],
   "source": [
    "from sklearn.model_selection import cross_val_score"
   ]
  },
  {
   "cell_type": "code",
   "execution_count": null,
   "metadata": {},
   "outputs": [],
   "source": [
    "def rf_cv(X, y, **kwargs):\n",
    "    estimator = RandomForestClassifier(**kwargs)\n",
    "    cval = cross_val_score(estimator, X, y, scoring = 'roc_auc', cv = 4, verbose = 3, n_jobs = -1)\n",
    "    return cval.mean()"
   ]
  },
  {
   "cell_type": "code",
   "execution_count": null,
   "metadata": {},
   "outputs": [],
   "source": [
    "def bayesian_optimise_rf(X, y, n_iter = 100):\n",
    "    def rf_crossval(n_estimators, max_features, max_depth, min_samples_split, min_samples_leaf):\n",
    "        #Wrapper of RandomForest cross validation.\n",
    "        #Note the fixing of the inputs so they match the expected type\n",
    "        #(e.g n_estimators must be an integer)\n",
    "        return rf_cv(\n",
    "            X = X,\n",
    "            y = y,\n",
    "            class_weight = \"balanced\",\n",
    "            criterion = \"entropy\",\n",
    "            min_samples_leaf = round(min_samples_leaf),\n",
    "            min_samples_split = round(min_samples_split),\n",
    "            max_depth = round(max_depth),\n",
    "            n_estimators = round(n_estimators),\n",
    "            max_features = max(min(max_features, 0.999), 1e-3),\n",
    "            bootstrap = True\n",
    "        )\n",
    "    \n",
    "    optimizer = BayesianOptimization(\n",
    "        f = rf_crossval,\n",
    "        pbounds = {\n",
    "            'max_depth': (5, 40),\n",
    "            'min_samples_split': (1, 40),\n",
    "            'min_samples_leaf': (1, 40),\n",
    "            \"n_estimators\" : (10, 1000),\n",
    "            \"max_features\" : (0.1, 0.999),\n",
    "        }\n",
    "    )\n",
    "    optimizer.maximize(n_iter = n_iter, init_points=10)\n",
    "    print(\"Final result:\", optimizer.max)"
   ]
  },
  {
   "cell_type": "code",
   "execution_count": null,
   "metadata": {},
   "outputs": [],
   "source": [
    "bayesian_optimise_rf(xtrain, ytrain, n_iter = 100)"
   ]
  },
  {
   "cell_type": "code",
   "execution_count": null,
   "metadata": {},
   "outputs": [],
   "source": [
    "Final result: {'target': -0.07562485649557907, 'params': {'max_features': 0.14536396029573667, 'n_estimators': 274.5153933464836}}\n",
    "Final result: {'target': -0.10702808396076546, 'params': {'max_depth': 16.510516494808947, 'max_features': 0.9747272567894322, 'min_samples_leaf': 3.655444204049038, 'min_samples_split': 2.290201118341872, 'n_estimators': 212.19037867335334}}\n",
    "Final result: {'target': -0.09605024365610514, 'params': {'max_depth': 19.140093166281204, 'max_features': 0.4629993256585475, 'min_samples_leaf': 1.2047202438817228, 'min_samples_split': 3.034554465488434, 'n_estimators': 168.6328805540666}}\n",
    "    |  8        | -0.1029   |  27.54    |  0.999    |  1.0      |  22.93    |  687.6    |\n",
    "    |  10       | -0.08651  |  28.96    |  0.999    |  1.0      |  4.866    |  394.7    |\n",
    "    |  13       |  0.7182   |  40.0     |  0.1      |  7.443    |  40.0     |  290.6    |\n",
    "    |  16       |  0.8935   |  34.12    |  0.8473   |  1.495    |  1.954    |  135.4    |\n"
   ]
  },
  {
   "cell_type": "code",
   "execution_count": null,
   "metadata": {},
   "outputs": [],
   "source": [
    "base_model = RandomForestClassifier(n_estimators = 135,\n",
    "                                   max_depth= 34.12, max_features= 0.8473,\n",
    "                                    min_samples_leaf= 1, min_samples_split= 2,\n",
    "                                   random_state=888)\n",
    "base_model.fit(xtrain, ytrain)\n",
    "base_accuracy = evaluate(base_model, xval, yval)"
   ]
  },
  {
   "cell_type": "code",
   "execution_count": null,
   "metadata": {},
   "outputs": [],
   "source": [
    "base_model = RandomForestClassifier(n_estimators = 135, random_state=888)\n",
    "base_model.fit(xtrain, ytrain)\n",
    "base_accuracy = evaluate(base_model, xval, yval)"
   ]
  },
  {
   "cell_type": "code",
   "execution_count": null,
   "metadata": {},
   "outputs": [],
   "source": [
    "base_model = RandomForestClassifier(random_state=888, max_features= 0.5)\n",
    "base_model.fit(xtrain, ytrain)\n",
    "base_accuracy = evaluate(base_model, xval, yval)"
   ]
  },
  {
   "cell_type": "code",
   "execution_count": null,
   "metadata": {},
   "outputs": [],
   "source": []
  },
  {
   "cell_type": "code",
   "execution_count": null,
   "metadata": {},
   "outputs": [],
   "source": []
  },
  {
   "cell_type": "code",
   "execution_count": null,
   "metadata": {},
   "outputs": [],
   "source": []
  },
  {
   "cell_type": "code",
   "execution_count": null,
   "metadata": {},
   "outputs": [],
   "source": []
  },
  {
   "cell_type": "markdown",
   "metadata": {},
   "source": [
    "## TREES BAYES"
   ]
  },
  {
   "cell_type": "code",
   "execution_count": null,
   "metadata": {},
   "outputs": [],
   "source": []
  },
  {
   "cell_type": "code",
   "execution_count": null,
   "metadata": {},
   "outputs": [],
   "source": []
  },
  {
   "cell_type": "code",
   "execution_count": null,
   "metadata": {},
   "outputs": [],
   "source": []
  },
  {
   "cell_type": "code",
   "execution_count": null,
   "metadata": {},
   "outputs": [],
   "source": []
  },
  {
   "cell_type": "code",
   "execution_count": null,
   "metadata": {},
   "outputs": [],
   "source": []
  },
  {
   "cell_type": "code",
   "execution_count": null,
   "metadata": {},
   "outputs": [],
   "source": []
  },
  {
   "cell_type": "code",
   "execution_count": null,
   "metadata": {},
   "outputs": [],
   "source": [
    "feauture_imp= list(zip(rfc.feature_importances_, xval.columns))\n",
    "sorted(feauture_imp)"
   ]
  },
  {
   "cell_type": "markdown",
   "metadata": {},
   "source": [
    "### XGBoost"
   ]
  },
  {
   "cell_type": "code",
   "execution_count": null,
   "metadata": {},
   "outputs": [],
   "source": [
    "# since the best performing model was a random forest, we can try XGBoost as it is also based on random forests"
   ]
  },
  {
   "cell_type": "code",
   "execution_count": null,
   "metadata": {},
   "outputs": [],
   "source": [
    "import xgboost as xgb"
   ]
  },
  {
   "cell_type": "code",
   "execution_count": null,
   "metadata": {},
   "outputs": [],
   "source": [
    "df = df.astype(int)"
   ]
  },
  {
   "cell_type": "code",
   "execution_count": null,
   "metadata": {},
   "outputs": [],
   "source": [
    "# XGBoost requires it own matrix type to be used\n",
    "# XGBoost was built with sparse data in mind, adding the missing paramater will greatly improve the efficiency of the training\n",
    "dtrain = xgb.DMatrix(xtrain, label=ytrain, missing=0)\n",
    "dtest  = xgb.DMatrix(xtest, label=ytest, missing=0)\n",
    "dval   = xgb.DMatrix(xval, label=yval, missing=0)"
   ]
  },
  {
   "cell_type": "code",
   "execution_count": null,
   "metadata": {},
   "outputs": [],
   "source": [
    "# lets define a parameter tuner using Bayesian Optimiization\n",
    "def bo_tune_xgb(max_depth, gamma ,learning_rate, scale_pos_weight, min_child_weight, colsample_bytree, subsample, alpha, lambd):\n",
    "    params = {'max_depth'       : int(max_depth),\n",
    "              'gamma'           : gamma,\n",
    "#               'n_estimators'    : int(n_estimators),\n",
    "              'learning_rate'   : learning_rate,\n",
    "              'alpha'           : alpha,\n",
    "              'lambda'          : lambd,\n",
    "              'subsample'       : subsample,\n",
    "              'eval_metric'     : 'rmse',\n",
    "              'min_child_weight': min_child_weight,\n",
    "              'scale_pos_weight': scale_pos_weight,\n",
    "              'colsample_bytree': colsample_bytree,\n",
    "              'tree_method'     : 'gpu_hist'}\n",
    "    cv_result = xgb.cv(params, dtrain, num_boost_round=200, nfold=5)\n",
    "    return -1.0 * cv_result['test-rmse-mean'].iloc[-1]"
   ]
  },
  {
   "cell_type": "code",
   "execution_count": null,
   "metadata": {},
   "outputs": [],
   "source": [
    "# here we define the ranges that Bayesian Optimization is allowed to search through\n",
    "# these ranges are common parameter ranges that most models fall into\n",
    "xgb_bo = BayesianOptimization(bo_tune_xgb, {'max_depth' : (1, 20),\n",
    "                        'gamma'            : (0, 2),\n",
    "                        'alpha'            : (0, 10),\n",
    "                        'lambd'           : (0,3),\n",
    "                        'subsample'        : (0,1),           \n",
    "                        'learning_rate'    : (0,2),\n",
    "#                         'n_estimators'     : (100,400),\n",
    "                        'scale_pos_weight' : (6,7),\n",
    "                        'min_child_weight' : (1,10),\n",
    "                        'colsample_bytree' : (0,1)} ,verbose=3)"
   ]
  },
  {
   "cell_type": "code",
   "execution_count": null,
   "metadata": {
    "scrolled": true
   },
   "outputs": [],
   "source": [
    "# here we search for the strongest parameter combination\n",
    "xgb_bo.maximize(n_iter=7, init_points=5, acq='ei')"
   ]
  },
  {
   "cell_type": "code",
   "execution_count": null,
   "metadata": {},
   "outputs": [],
   "source": [
    "# .max returns the strongest parameters\n",
    "params = xgb_bo.max['params']\n",
    "\n",
    "# some of the parameters need to be whole numbers\n",
    "params['max_depth'] = int(params['max_depth'])\n",
    "# params['n_estimators'] = int(params['n_estimators'])\n",
    "params"
   ]
  },
  {
   "cell_type": "code",
   "execution_count": null,
   "metadata": {},
   "outputs": [],
   "source": [
    "# lets see our results for the train data\n",
    "xgb_opt= xgb.train(params, dtrain)\n",
    "predsopt = xgb_opt.predict(dtrain)\n",
    "print(classification_report(predsopt.round(), ytrain))"
   ]
  },
  {
   "cell_type": "code",
   "execution_count": null,
   "metadata": {},
   "outputs": [],
   "source": [
    "confusion_matrix(predsopt.round(), ytrain)"
   ]
  },
  {
   "cell_type": "code",
   "execution_count": null,
   "metadata": {},
   "outputs": [],
   "source": [
    "# and now for the validation\n",
    "predsoptval = xgb_opt.predict(dval)\n",
    "print(classification_report(predsoptval.round(), yval))"
   ]
  },
  {
   "cell_type": "code",
   "execution_count": null,
   "metadata": {
    "scrolled": true
   },
   "outputs": [],
   "source": [
    "confusion_matrix(predsoptval.round(), yval)"
   ]
  },
  {
   "cell_type": "code",
   "execution_count": null,
   "metadata": {},
   "outputs": [],
   "source": [
    "predsoptval = xgb_opt.predict(dval)\n",
    "print(classification_report(predsoptval.round(), yval))"
   ]
  },
  {
   "cell_type": "code",
   "execution_count": null,
   "metadata": {},
   "outputs": [],
   "source": []
  },
  {
   "cell_type": "code",
   "execution_count": null,
   "metadata": {},
   "outputs": [],
   "source": []
  },
  {
   "cell_type": "markdown",
   "metadata": {},
   "source": [
    "### Neural Network"
   ]
  },
  {
   "cell_type": "code",
   "execution_count": null,
   "metadata": {},
   "outputs": [],
   "source": [
    "ypred = xgb_opt.predict(dval)\n",
    "plot_confusion_matrix([[8707,  365],[ 937, 1264]])"
   ]
  },
  {
   "cell_type": "code",
   "execution_count": null,
   "metadata": {},
   "outputs": [],
   "source": [
    "# swish is a recent activation function that remedies the issues of ReLU\n",
    "def swish(x, b = 1):\n",
    "    return (x * sigmoid(b * x))"
   ]
  },
  {
   "cell_type": "code",
   "execution_count": null,
   "metadata": {},
   "outputs": [],
   "source": [
    "def newmod():\n",
    "    model = tf.keras.Sequential()\n",
    "    model.add(Dense(176, input_dim=len(xtrain.columns), activation='swish'))\n",
    "    model.add(Dropout(.2))\n",
    "\n",
    "    model.add(Dense(88, activation='swish'))\n",
    "    model.add(Dropout(.2))\n",
    "    \n",
    "    model.add(Dense(44, activation='swish'))\n",
    "    model.add(Dropout(.2))\n",
    "    \n",
    "    model.add(Dense(22, activation='swish'))\n",
    "    model.add(Dropout(.2))\n",
    "    \n",
    "    model.add(Dense(11, activation='swish'))\n",
    "    model.add(Dropout(.2))\n",
    "    \n",
    "    model.add(Dense(1, activation='sigmoid'))\n",
    "    \n",
    "    return model\n",
    "\n",
    "\n",
    "estimator = newmod()\n",
    "estimator.compile(optimizer='nadam', \n",
    "                  metrics=['accuracy', tf.keras.metrics.Precision(), tf.keras.metrics.Recall()], loss='binary_crossentropy')"
   ]
  },
  {
   "cell_type": "code",
   "execution_count": null,
   "metadata": {},
   "outputs": [],
   "source": [
    "history = estimator.fit(xtrain, ytrain, epochs=100, validation_data=(xval, yval))"
   ]
  },
  {
   "cell_type": "code",
   "execution_count": null,
   "metadata": {},
   "outputs": [],
   "source": [
    "history_df = pd.DataFrame(history.history)\n",
    "plt.plot(history_df['loss'], label='loss')\n",
    "plt.plot(history_df['val_loss'], label='val_loss')\n",
    "\n",
    "plt.legend()"
   ]
  }
 ],
 "metadata": {
  "kernelspec": {
   "display_name": "test-env",
   "language": "python",
   "name": "test-env"
  },
  "language_info": {
   "codemirror_mode": {
    "name": "ipython",
    "version": 3
   },
   "file_extension": ".py",
   "mimetype": "text/x-python",
   "name": "python",
   "nbconvert_exporter": "python",
   "pygments_lexer": "ipython3",
   "version": "3.8.8"
  }
 },
 "nbformat": 4,
 "nbformat_minor": 4
}
